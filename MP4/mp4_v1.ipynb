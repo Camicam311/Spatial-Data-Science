{
 "cells": [
  {
   "cell_type": "markdown",
   "metadata": {
    "deletable": false,
    "editable": false,
    "nbgrader": {
     "checksum": "60a2f7d76adaff7f3f7146c754c15f93",
     "grade": false,
     "grade_id": "cell-1f334cce738a72a5",
     "locked": true,
     "schema_version": 1,
     "solution": false
    }
   },
   "source": [
    "#### Mini-Project # 4\n",
    "\n",
    "This project will focus on suitability analysis with raster data. Your tasks will be both conceptual-level and technical. \n",
    "\n",
    "At the conceptual level, you will define a suitability model of your choice, for an area of your choice. See https://en.wikipedia.org/wiki/Suitability_model for a brief description of what a suitability model is. For example, you may be looking for best areas for community gardens: these are often in underutilized land in residential land uses, with good soils, accessible (not steep slope), etc. So you would be looking for areas with a specific type of land use/land cover, with an appropriate range of values of slope, etc. You may build additional criteria based on a range of precipitaiton values, whether the area is affected by wildfires, has mild temperatures, low levels of soil erosion, has vegeration (eg derived from satellite imagery using NDVI), etc. Feel free to use the imagery layers we explored or mentioned during the raster-focused lectures. One of the cells in the last raster notebook contained a list of about a dozen such layers available through AGOL - but feel free to find more. You can use any two of the map combination techniques discussed in the lecture on Thu 5/9. You should clearly identify the map combination technique you use, and discuss any uncertainty issues associated with these specific techniques. \n",
    "\n",
    "As the outcome of this part, you will need to a) describe the suitability model you want to develop; b) identify the raster data layers you will use; and c) describe two of the map combination techniques you will use to derive the two suitablity maps, and their pros and cons. In your model you will need to combine at least 3 raster data layers.\n",
    "\n",
    "The second part will involve implementing your suitability model using arcgis raster functions. For this exercise, we'll only use local functions, and possibly focal_statistics. This is the current state of implementation of raster functions accessible through python API and in ArcGIS Online. Examples of what works are in the lecture notebooks. Look throufgh the last notebook carefully, as there are a few extra cells not shown in the lecture, which demonstrate *working* map combination examples for different types of layers. \n",
    "\n",
    "Be creative - but I'd rather not have you wander into blind alleys too much as you look for a declared function and it is simply not there. Note that since some functions are associated with raster services, they depend on the version of the server a particular imagery layer is served from. See in the lecture notebooks how you can retrieve the version of API supported by each layer, and which functions are supported in each API. \n",
    "\n",
    "The third part will be a brief write-up comparing the two output rasters generated for your suitability model using the two map combination techniques. \n",
    "\n",
    "The notebook should include documentation of the steps, as usually."
   ]
  },
  {
   "cell_type": "markdown",
   "metadata": {},
   "source": [
    "### Names: Yu-Chun Chen, Yanyu Tao\n",
    "\n",
    "### IDs: A13356506, A13961185\n"
   ]
  },
  {
   "cell_type": "markdown",
   "metadata": {
    "deletable": false,
    "editable": false,
    "nbgrader": {
     "checksum": "2df32bf94c3798a31322c3f878b69a52",
     "grade": false,
     "grade_id": "cell-4f680b2b69898e08",
     "locked": true,
     "schema_version": 1,
     "solution": false
    }
   },
   "source": [
    "1. Formulate a suitability model (markdown, about 100 words)"
   ]
  },
  {
   "cell_type": "markdown",
   "metadata": {
    "deletable": false,
    "nbgrader": {
     "checksum": "1e00fae788334015d4b959fd21c8b6fb",
     "grade": true,
     "grade_id": "cell-3615898eefcdb5c2",
     "locked": false,
     "points": 5,
     "schema_version": 1,
     "solution": true
    }
   },
   "source": [
    "We are looking for suitable areas in San Diego to grow avocado trees, and define this as our suitability model. After research, we found that areas with rainfall 1000-1600mm, soil pH range 6-6.5 (low erodibility), 60-85 degrees F temperature, elevation under 1000 feet, slope under 15 degrees, and no strong wind to be the best places to grow avocado trees. Thus, we will look for areas that have lower precipitation (as we can irrigate for lower precipitated areas), higher temperature, and lower erodibility. Among these conditions, temperature and precipitation are the more important factors."
   ]
  },
  {
   "cell_type": "code",
   "execution_count": 1,
   "metadata": {},
   "outputs": [
    {
     "name": "stdout",
     "output_type": "stream",
     "text": [
      "Enter password: ········\n"
     ]
    }
   ],
   "source": [
    "# 2. Imports, etc.\n",
    "from arcgis import GIS\n",
    "from IPython.display import display\n",
    "import arcgis.raster\n",
    "from arcgis.raster import *\n",
    "from arcgis.geocoding import geocode\n",
    "from arcgis import geometry\n",
    "gis = GIS(username='yuc330_UCSDOnline9')"
   ]
  },
  {
   "cell_type": "code",
   "execution_count": null,
   "metadata": {
    "deletable": false,
    "editable": false,
    "nbgrader": {
     "checksum": "e5d57f33659fd1049e0a31711d657e76",
     "grade": false,
     "grade_id": "cell-2deb10c691a4d1c2",
     "locked": true,
     "schema_version": 1,
     "solution": false
    }
   },
   "outputs": [],
   "source": [
    "# 3. List imagery layers to be used in your model. This cell should contian layer definitions. \n",
    "# Include at least three initial raster sources. "
   ]
  },
  {
   "cell_type": "code",
   "execution_count": 2,
   "metadata": {},
   "outputs": [],
   "source": [
    "#usa precipitation\n",
    "#The layer contains the annual average precipitation data for the United States\n",
    "rainfall = ImageryLayer(\"https://landscape3.arcgis.com/arcgis/rest/services/USA_Mean_Rainfall/ImageServer\", gis) \n",
    "#usa mean temperature\n",
    "#The layer contains the annual average temperature data for the United States\n",
    "temperature = ImageryLayer(\"https://landscape3.arcgis.com/arcgis/rest/services/USA_Mean_Temperature/ImageServer\", gis)\n",
    "#soil erodibility\n",
    "#The layer contains the level of erodibility in the United States, areas are classified to six classes\n",
    "soil_erosion = ImageryLayer('https://landscape11.arcgis.com/arcgis/rest/services/USA_Soils_Erodibility_Factor/ImageServer',gis)"
   ]
  },
  {
   "cell_type": "code",
   "execution_count": null,
   "metadata": {
    "deletable": false,
    "nbgrader": {
     "checksum": "c5d6f4085d8a5d90024220815552491e",
     "grade": true,
     "grade_id": "cell-0dbfd5942a917632",
     "locked": false,
     "points": 5,
     "schema_version": 1,
     "solution": true
    }
   },
   "outputs": [],
   "source": [
    "# YOUR CODE HERE\n",
    "#raise NotImplementedError()"
   ]
  },
  {
   "cell_type": "code",
   "execution_count": null,
   "metadata": {
    "deletable": false,
    "editable": false,
    "nbgrader": {
     "checksum": "0e9af4998b90314f2ac175dca4c745ff",
     "grade": false,
     "grade_id": "cell-6d61831ab53a29b4",
     "locked": true,
     "schema_version": 1,
     "solution": false
    }
   },
   "outputs": [],
   "source": [
    "# 4. Derive the area of interest (AOI) and its geometry and extent. \n",
    "# The smaller the area the better (so that you don't run into raster size limitations)"
   ]
  },
  {
   "cell_type": "code",
   "execution_count": 3,
   "metadata": {},
   "outputs": [],
   "source": [
    "#find the study area geometry\n",
    "from arcgis.features import FeatureLayerCollection\n",
    "url = 'https://services.arcgis.com/P3ePLMYs2RVChkJx/arcgis/rest/services/USA_Counties_Generalized/FeatureServer'\n",
    "county = FeatureLayerCollection(url)\n",
    "county_lyr = county.layers[0]\n",
    "study_area_query = county_lyr.query(\"FIPS='06073'\", return_geometry=True)\n",
    "study_area_geom= study_area_query.features[0].geometry\n",
    "study_area_geom['spatialReference'] = study_area_query.spatial_reference"
   ]
  },
  {
   "cell_type": "code",
   "execution_count": 4,
   "metadata": {},
   "outputs": [],
   "source": [
    "#find the study area extent\n",
    "study_area_ex = geometry.Geometry(study_area_geom).geoextent \n",
    "tup = (('xmin',study_area_ex[0]), ('ymin', study_area_ex[1]), ('xmax',study_area_ex[2]), ('ymax', study_area_ex[3]))\n",
    "study_area_extent = dict(tup)\n",
    "crs = \"{'latestwkid':3857, 'wkid':102100}\"\n",
    "study_area_extent.update({'spatialReference':{'latestwkid':3857, 'wkid':102100}})"
   ]
  },
  {
   "cell_type": "code",
   "execution_count": 5,
   "metadata": {},
   "outputs": [
    {
     "data": {
      "text/plain": [
       "{'spatialReference': {'latestwkid': 3857, 'wkid': 102100},\n",
       " 'xmax': -12922139.2950188,\n",
       " 'xmin': -13090875.0407958,\n",
       " 'ymax': 3963248.36768519,\n",
       " 'ymin': 3833847.56313313}"
      ]
     },
     "execution_count": 5,
     "metadata": {},
     "output_type": "execute_result"
    }
   ],
   "source": [
    "study_area_extent"
   ]
  },
  {
   "cell_type": "code",
   "execution_count": null,
   "metadata": {
    "deletable": false,
    "nbgrader": {
     "checksum": "47a95fe75d7a5a10350b60557e50afd2",
     "grade": true,
     "grade_id": "cell-6a9886a7c4908c79",
     "locked": false,
     "points": 5,
     "schema_version": 1,
     "solution": true
    }
   },
   "outputs": [],
   "source": [
    "# YOUR CODE HERE\n",
    "#raise NotImplementedError()"
   ]
  },
  {
   "cell_type": "markdown",
   "metadata": {
    "deletable": false,
    "editable": false,
    "nbgrader": {
     "checksum": "bad09c5b05d305c9ade4301b7bff1b7e",
     "grade": false,
     "grade_id": "cell-bb7ea8206068d64f",
     "locked": true,
     "schema_version": 1,
     "solution": false
    }
   },
   "source": [
    "5. Name the two map combination techniques you will use to combine the data and describe their pros and cons (markdown) "
   ]
  },
  {
   "cell_type": "markdown",
   "metadata": {
    "deletable": false,
    "nbgrader": {
     "checksum": "e2bb1e614b51c29656ec324931cb6d9f",
     "grade": true,
     "grade_id": "cell-ab323b38c2d406c0",
     "locked": false,
     "points": 5,
     "schema_version": 1,
     "solution": true
    }
   },
   "source": [
    "We will first convert each layer to binary layer. Then we will use (1) dominance approach, binary multiplication and (2) contributory approach, binary addition to combine layers. (1) For multiplication, the pros include that we can immedeiately filter out areas with one or more unsatisfied conditions, so that we can make sure the areas left have all conditions met. On the other side, its cons include that we can possibly filter out too much areas, and for those areas filtered out, we cannot figure out which areas are more suitable than other ones, because their values are all 0. (2) For summation, the pros include that we can rank all the areas based on how many conditions they have satisfied. The cons are that it is harder to figure out areas that have satisfied all conditions immediately."
   ]
  },
  {
   "cell_type": "code",
   "execution_count": null,
   "metadata": {
    "deletable": false,
    "editable": false,
    "nbgrader": {
     "checksum": "4d21d8bea566ec451d2a68c07ec84fd4",
     "grade": false,
     "grade_id": "cell-e380ca0f06dad30f",
     "locked": true,
     "schema_version": 1,
     "solution": false
    }
   },
   "outputs": [],
   "source": [
    "# 6. Prepare your input layers for map combination: \n",
    "# clip to AOI, remap/normalize, add color map, visualize the layers and legends. "
   ]
  },
  {
   "cell_type": "code",
   "execution_count": 6,
   "metadata": {},
   "outputs": [],
   "source": [
    "#clip each layer to San Diego area\n",
    "rainfall_study = clip(raster=rainfall, geometry=study_area_geom)\n",
    "temperature_study = clip(raster=temperature, geometry=study_area_geom)\n",
    "ero_study = clip(raster=soil_erosion, geometry=study_area_geom)"
   ]
  },
  {
   "cell_type": "code",
   "execution_count": 7,
   "metadata": {},
   "outputs": [],
   "source": [
    "#remap the rainfall layer to binary color map\n",
    "clrmap_rainfall =  [[1, 192, 221, 234], [0, 13, 71, 165]]\n",
    "\n",
    "rainfall_binary = remap(rainfall_study,\n",
    "                       input_ranges=[0, 30, 30, 300],\n",
    "                       output_values=[1,0], astype='U8')\n",
    "\n",
    "rainfall_m = colormap(rainfall_binary, colormap=clrmap_rainfall)"
   ]
  },
  {
   "cell_type": "code",
   "execution_count": 8,
   "metadata": {},
   "outputs": [],
   "source": [
    "#remap the temperature layer to binary color map\n",
    "clrmap_temp =  [[1, 188, 54, 39], [0, 247, 170, 61]]\n",
    "\n",
    "temp_binary = remap(temperature_study,\n",
    "                       input_ranges=[-10, 15, 15, 30],\n",
    "                       output_values=[0,1], astype='U8')\n",
    "\n",
    "temp_m = colormap(temp_binary, colormap=clrmap_temp)"
   ]
  },
  {
   "cell_type": "code",
   "execution_count": 9,
   "metadata": {},
   "outputs": [],
   "source": [
    "#remap the soil erodibility layer to binary color map\n",
    "clrmap_ero =  [[1, 183, 157, 132], [0, 99, 54, 11]]\n",
    "\n",
    "ero_binary = remap(ero_study,\n",
    "                       input_ranges=[0, 0.2, 0.2, 0.7],\n",
    "                       output_values=[1,0], astype='U8')\n",
    "\n",
    "ero_m = colormap(ero_binary, colormap=clrmap_ero)"
   ]
  },
  {
   "cell_type": "code",
   "execution_count": 10,
   "metadata": {},
   "outputs": [],
   "source": [
    "#elevation layer added to workaround in 7a and 7b\n",
    "usa_elevation = ImageryLayer('https://elevation.arcgis.com/arcgis/rest/services/WorldElevation/Terrain/ImageServer',gis)\n",
    "slope_lyr = slope(dem=usa_elevation, slope_type='DEGREE', z_factor=10)\n",
    "slope_lyr.extent = study_area_extent\n",
    "slope_study_area = clip(raster=slope_lyr, geometry=study_area_geom)"
   ]
  },
  {
   "cell_type": "code",
   "execution_count": 11,
   "metadata": {},
   "outputs": [],
   "source": [
    "#remap the slope layer to binary color map\n",
    "clrmap_slope =  [[1, 54, 201, 76], [0, 8, 81, 19]]\n",
    "\n",
    "slope_binary = remap(slope_study_area,\n",
    "                       input_ranges=[0, 15, 15, 90],\n",
    "                       output_values=[1,0], astype='U8')\n",
    "\n",
    "slope_m = colormap(slope_binary, colormap=clrmap_slope)"
   ]
  },
  {
   "cell_type": "code",
   "execution_count": 12,
   "metadata": {},
   "outputs": [
    {
     "data": {
      "text/plain": [
       "{'spatialReference': {'latestwkid': 3857, 'wkid': 102100},\n",
       " 'xmax': -12922139.2950188,\n",
       " 'xmin': -13090875.0407958,\n",
       " 'ymax': 3963248.36768519,\n",
       " 'ymin': 3833847.56313313}"
      ]
     },
     "execution_count": 12,
     "metadata": {},
     "output_type": "execute_result"
    }
   ],
   "source": [
    "study_area_extent"
   ]
  },
  {
   "cell_type": "code",
   "execution_count": 13,
   "metadata": {},
   "outputs": [
    {
     "data": {
      "application/vnd.jupyter.widget-view+json": {
       "model_id": "857730492127441aa1fd9c407dc3e754",
       "version_major": 2,
       "version_minor": 0
      },
      "text/plain": [
       "MapView(layout=Layout(height='400px', width='100%'), legend=True)"
      ]
     },
     "metadata": {},
     "output_type": "display_data"
    },
    {
     "data": {
      "text/html": [
       "<div class=\"map-static-img-preview-56666486-2488-4e24-852c-98d6587ea543\"><img src=\"\"></img></div>"
      ],
      "text/plain": [
       "<IPython.core.display.HTML object>"
      ]
     },
     "metadata": {},
     "output_type": "display_data"
    }
   ],
   "source": [
    "#map the binary rainfall layer\n",
    "map_rain = gis.map()\n",
    "map_rain.extent = study_area_extent\n",
    "map_rain.legend=True\n",
    "map_rain.add_layer(rainfall_m)\n",
    "map_rain\n",
    "\n",
    "#value 1 indicates areas having precipitation less than 30 inches a year"
   ]
  },
  {
   "cell_type": "code",
   "execution_count": 14,
   "metadata": {
    "scrolled": false
   },
   "outputs": [
    {
     "data": {
      "application/vnd.jupyter.widget-view+json": {
       "model_id": "d681164447174a6bad1a7fc9ec15844c",
       "version_major": 2,
       "version_minor": 0
      },
      "text/plain": [
       "MapView(layout=Layout(height='400px', width='100%'), legend=True)"
      ]
     },
     "metadata": {},
     "output_type": "display_data"
    },
    {
     "data": {
      "text/html": [
       "<div class=\"map-static-img-preview-c148e001-7a02-4784-8f29-6766d28a23a4\"><img src=\"\"></img></div>"
      ],
      "text/plain": [
       "<IPython.core.display.HTML object>"
      ]
     },
     "metadata": {},
     "output_type": "display_data"
    }
   ],
   "source": [
    "#map the binary temperature layer\n",
    "map_temp = gis.map()\n",
    "map_temp.extent = study_area_extent\n",
    "map_temp.legend=True\n",
    "map_temp.add_layer(temp_m)\n",
    "map_temp\n",
    "\n",
    "#value 1 indicates areas having average annual temperature 15 to 30 degrees C"
   ]
  },
  {
   "cell_type": "code",
   "execution_count": 15,
   "metadata": {},
   "outputs": [
    {
     "data": {
      "application/vnd.jupyter.widget-view+json": {
       "model_id": "ef6e1de7cae843a0910115a748ba515e",
       "version_major": 2,
       "version_minor": 0
      },
      "text/plain": [
       "MapView(layout=Layout(height='400px', width='100%'), legend=True)"
      ]
     },
     "metadata": {},
     "output_type": "display_data"
    },
    {
     "data": {
      "text/html": [
       "<div class=\"map-static-img-preview-a724a2d4-20db-44e6-8645-12433240aeb3\"><img src=\"\"></img></div>"
      ],
      "text/plain": [
       "<IPython.core.display.HTML object>"
      ]
     },
     "metadata": {},
     "output_type": "display_data"
    }
   ],
   "source": [
    "#map the binary erodibility layer\n",
    "map_ero = gis.map()\n",
    "map_ero.extent = study_area_extent\n",
    "map_ero.legend=True\n",
    "map_ero.add_layer(ero_m)\n",
    "map_ero\n",
    "\n",
    "#value 1 indicates areas with lower soil erodibility"
   ]
  },
  {
   "cell_type": "code",
   "execution_count": 16,
   "metadata": {},
   "outputs": [
    {
     "data": {
      "application/vnd.jupyter.widget-view+json": {
       "model_id": "77668e6da844441fb79435bd71e5489c",
       "version_major": 2,
       "version_minor": 0
      },
      "text/plain": [
       "MapView(layout=Layout(height='400px', width='100%'), legend=True)"
      ]
     },
     "metadata": {},
     "output_type": "display_data"
    },
    {
     "data": {
      "text/html": [
       "<div class=\"map-static-img-preview-5013c66a-4f2a-4965-8059-e55b0344eef5\"><img src=\"\"></img></div>"
      ],
      "text/plain": [
       "<IPython.core.display.HTML object>"
      ]
     },
     "metadata": {},
     "output_type": "display_data"
    }
   ],
   "source": [
    "#map the binary slope layer\n",
    "map_slope = gis.map()\n",
    "map_slope.extent = study_area_extent\n",
    "map_slope.legend=True\n",
    "map_slope.add_layer(slope_m)\n",
    "map_slope\n",
    "\n",
    "#value 1 indicates areas with less than 15 degrees slope"
   ]
  },
  {
   "cell_type": "code",
   "execution_count": 18,
   "metadata": {
    "deletable": false,
    "nbgrader": {
     "checksum": "1c9f632ab8e0edfbdba1e3b037e0f380",
     "grade": true,
     "grade_id": "cell-448e5b0e9c96e718",
     "locked": false,
     "points": 5,
     "schema_version": 1,
     "solution": true
    }
   },
   "outputs": [],
   "source": [
    "# YOUR CODE HERE\n",
    "#raise NotImplementedError()"
   ]
  },
  {
   "cell_type": "code",
   "execution_count": null,
   "metadata": {
    "deletable": false,
    "editable": false,
    "nbgrader": {
     "checksum": "96e22a0cb632e74edbf87e3b00de2622",
     "grade": false,
     "grade_id": "cell-7edf535fc82d9963",
     "locked": true,
     "schema_version": 1,
     "solution": false
    }
   },
   "outputs": [],
   "source": [
    "# 7a. Generate a composite raster layer for your first map combination technique\n",
    "# name of the technique (refer to lecture PPT):"
   ]
  },
  {
   "cell_type": "code",
   "execution_count": 17,
   "metadata": {},
   "outputs": [
    {
     "data": {
      "application/vnd.jupyter.widget-view+json": {
       "model_id": "ed260d1d4c0848079c4677cb8acb3a35",
       "version_major": 2,
       "version_minor": 0
      },
      "text/plain": [
       "MapView(layout=Layout(height='400px', width='100%'), legend=True)"
      ]
     },
     "metadata": {},
     "output_type": "display_data"
    },
    {
     "data": {
      "text/html": [
       "<div class=\"map-static-img-preview-449aad59-f076-4e70-8e1e-a86cce4fd7f9\"><img src=\"\"></img></div>"
      ],
      "text/plain": [
       "<IPython.core.display.HTML object>"
      ]
     },
     "metadata": {},
     "output_type": "display_data"
    }
   ],
   "source": [
    "# name of the technique (refer to lecture PPT): Exclusionary screening\n",
    "\n",
    "#combine all binary layers by multiplication\n",
    "clrmap1 = [[1, 18, 117, 12], [0, 0, 7, 0]]\n",
    "tech1 = raster_calculator(rasters = [rainfall_m, temp_m, ero_m], input_names = [\"a\",\"b\",\"c\"], expression = \"a * b * c\", extent_type='FirstOf', cellsize_type='FirstOf', astype='UNKNOWN')\n",
    "cl1 = colormap(tech1, colormap=clrmap1)\n",
    "\n",
    "#map the combined layer\n",
    "map1 = gis.map()\n",
    "map1.extent = study_area_extent\n",
    "map1.legend=True\n",
    "map1.add_layer(cl1)\n",
    "map1\n",
    "\n",
    "#was unable to show the layer"
   ]
  },
  {
   "cell_type": "code",
   "execution_count": 24,
   "metadata": {},
   "outputs": [
    {
     "data": {
      "text/plain": [
       "{'rasterFunction': 'Colormap',\n",
       " 'rasterFunctionArguments': {'Colormap': [[1, 18, 117, 12], [0, 0, 7, 0]],\n",
       "  'Raster': {'outputPixelType': 'UNKNOWN',\n",
       "   'rasterFunction': 'RasterCalculator',\n",
       "   'rasterFunctionArguments': {'CellsizeType': 0,\n",
       "    'Expression': 'a * b * c',\n",
       "    'ExtentType': 0,\n",
       "    'InputNames': ['a', 'b', 'c'],\n",
       "    'Rasters': [{'rasterFunction': 'Colormap',\n",
       "      'rasterFunctionArguments': {'Colormap': [[1, 192, 221, 234],\n",
       "        [0, 13, 71, 165]],\n",
       "       'Raster': {'outputPixelType': 'U8',\n",
       "        'rasterFunction': 'Remap',\n",
       "        'rasterFunctionArguments': {'InputRanges': [0, 30, 30, 300],\n",
       "         'OutputValues': [1, 0],\n",
       "         'Raster': {'rasterFunction': 'Clip',\n",
       "          'rasterFunctionArguments': {'ClipType': 1,\n",
       "           'ClippingGeometry': {'rings': [[[-13038640.2378045,\n",
       "               3833847.56313313],\n",
       "              [-13046623.4026057, 3857991.25757854],\n",
       "              [-13037806.2894249, 3842709.77649226],\n",
       "              [-13038242.9630011, 3852764.625192],\n",
       "              [-13046507.9224498, 3860702.91542385],\n",
       "              [-13052010.6888388, 3852918.36925318],\n",
       "              [-13056142.698569, 3875572.5844261],\n",
       "              [-13052752.1896589, 3880470.16217001],\n",
       "              [-13060942.1288156, 3910110.69831699],\n",
       "              [-13070037.4669952, 3926416.80993839],\n",
       "              [-13090875.0407958, 3947789.6111035],\n",
       "              [-13088850.2944962, 3956573.52304734],\n",
       "              [-13083096.9145435, 3957334.95729047],\n",
       "              [-13081091.6600256, 3960320.76148142],\n",
       "              [-13081044.9604849, 3962992.62952016],\n",
       "              [-13064742.9108947, 3963248.36768519],\n",
       "              [-13065162.4628438, 3960696.59973376],\n",
       "              [-13050808.7840634, 3954550.54729093],\n",
       "              [-13050743.3943262, 3953033.60970995],\n",
       "              [-13027843.751501, 3953125.99386067],\n",
       "              [-13027782.6003613, 3952155.15750851],\n",
       "              [-12922233.0458749, 3951969.51409108],\n",
       "              [-12922139.2950188, 3905207.95747332],\n",
       "              [-12924640.5058097, 3905050.31386036],\n",
       "              [-12924969.1787687, 3844903.30316599],\n",
       "              [-13038640.2378045, 3833847.56313313]]],\n",
       "            'spatialReference': {'latestWkid': 3857, 'wkid': 102100}},\n",
       "           'Raster': '$$'}}},\n",
       "        'variableName': 'Raster'}},\n",
       "      'variableName': 'Raster'},\n",
       "     {'rasterFunction': 'Colormap',\n",
       "      'rasterFunctionArguments': {'Colormap': [[1, 188, 54, 39],\n",
       "        [0, 247, 170, 61]],\n",
       "       'Raster': {'outputPixelType': 'U8',\n",
       "        'rasterFunction': 'Remap',\n",
       "        'rasterFunctionArguments': {'InputRanges': [-10, 15, 15, 30],\n",
       "         'OutputValues': [0, 1],\n",
       "         'Raster': {'rasterFunction': 'Clip',\n",
       "          'rasterFunctionArguments': {'ClipType': 1,\n",
       "           'ClippingGeometry': {'rings': [[[-13038640.2378045,\n",
       "               3833847.56313313],\n",
       "              [-13046623.4026057, 3857991.25757854],\n",
       "              [-13037806.2894249, 3842709.77649226],\n",
       "              [-13038242.9630011, 3852764.625192],\n",
       "              [-13046507.9224498, 3860702.91542385],\n",
       "              [-13052010.6888388, 3852918.36925318],\n",
       "              [-13056142.698569, 3875572.5844261],\n",
       "              [-13052752.1896589, 3880470.16217001],\n",
       "              [-13060942.1288156, 3910110.69831699],\n",
       "              [-13070037.4669952, 3926416.80993839],\n",
       "              [-13090875.0407958, 3947789.6111035],\n",
       "              [-13088850.2944962, 3956573.52304734],\n",
       "              [-13083096.9145435, 3957334.95729047],\n",
       "              [-13081091.6600256, 3960320.76148142],\n",
       "              [-13081044.9604849, 3962992.62952016],\n",
       "              [-13064742.9108947, 3963248.36768519],\n",
       "              [-13065162.4628438, 3960696.59973376],\n",
       "              [-13050808.7840634, 3954550.54729093],\n",
       "              [-13050743.3943262, 3953033.60970995],\n",
       "              [-13027843.751501, 3953125.99386067],\n",
       "              [-13027782.6003613, 3952155.15750851],\n",
       "              [-12922233.0458749, 3951969.51409108],\n",
       "              [-12922139.2950188, 3905207.95747332],\n",
       "              [-12924640.5058097, 3905050.31386036],\n",
       "              [-12924969.1787687, 3844903.30316599],\n",
       "              [-13038640.2378045, 3833847.56313313]]],\n",
       "            'spatialReference': {'latestWkid': 3857, 'wkid': 102100}},\n",
       "           'Raster': 'https://landscape3.arcgis.com/arcgis/rest/services/USA_Mean_Temperature/ImageServer'}}},\n",
       "        'variableName': 'Raster'}},\n",
       "      'variableName': 'Raster'},\n",
       "     {'rasterFunction': 'Colormap',\n",
       "      'rasterFunctionArguments': {'Colormap': [[1, 183, 157, 132],\n",
       "        [0, 99, 54, 11]],\n",
       "       'Raster': {'outputPixelType': 'U8',\n",
       "        'rasterFunction': 'Remap',\n",
       "        'rasterFunctionArguments': {'InputRanges': [0, 0.2, 0.2, 0.7],\n",
       "         'OutputValues': [1, 0],\n",
       "         'Raster': {'rasterFunction': 'Clip',\n",
       "          'rasterFunctionArguments': {'ClipType': 1,\n",
       "           'ClippingGeometry': {'rings': [[[-13038640.2378045,\n",
       "               3833847.56313313],\n",
       "              [-13046623.4026057, 3857991.25757854],\n",
       "              [-13037806.2894249, 3842709.77649226],\n",
       "              [-13038242.9630011, 3852764.625192],\n",
       "              [-13046507.9224498, 3860702.91542385],\n",
       "              [-13052010.6888388, 3852918.36925318],\n",
       "              [-13056142.698569, 3875572.5844261],\n",
       "              [-13052752.1896589, 3880470.16217001],\n",
       "              [-13060942.1288156, 3910110.69831699],\n",
       "              [-13070037.4669952, 3926416.80993839],\n",
       "              [-13090875.0407958, 3947789.6111035],\n",
       "              [-13088850.2944962, 3956573.52304734],\n",
       "              [-13083096.9145435, 3957334.95729047],\n",
       "              [-13081091.6600256, 3960320.76148142],\n",
       "              [-13081044.9604849, 3962992.62952016],\n",
       "              [-13064742.9108947, 3963248.36768519],\n",
       "              [-13065162.4628438, 3960696.59973376],\n",
       "              [-13050808.7840634, 3954550.54729093],\n",
       "              [-13050743.3943262, 3953033.60970995],\n",
       "              [-13027843.751501, 3953125.99386067],\n",
       "              [-13027782.6003613, 3952155.15750851],\n",
       "              [-12922233.0458749, 3951969.51409108],\n",
       "              [-12922139.2950188, 3905207.95747332],\n",
       "              [-12924640.5058097, 3905050.31386036],\n",
       "              [-12924969.1787687, 3844903.30316599],\n",
       "              [-13038640.2378045, 3833847.56313313]]],\n",
       "            'spatialReference': {'latestWkid': 3857, 'wkid': 102100}},\n",
       "           'Raster': 'https://landscape11.arcgis.com/arcgis/rest/services/USA_Soils_Erodibility_Factor/ImageServer'}}},\n",
       "        'variableName': 'Raster'}},\n",
       "      'variableName': 'Raster'}]},\n",
       "   'variableName': 'Rasters'}},\n",
       " 'variableName': 'Raster'}"
      ]
     },
     "execution_count": 24,
     "metadata": {},
     "output_type": "execute_result"
    }
   ],
   "source": [
    "#checking layer provenece\n",
    "cl1._fn"
   ]
  },
  {
   "cell_type": "code",
   "execution_count": 26,
   "metadata": {},
   "outputs": [
    {
     "data": {
      "application/vnd.jupyter.widget-view+json": {
       "model_id": "a01c1720fd164866b1a88a76d0380eba",
       "version_major": 2,
       "version_minor": 0
      },
      "text/plain": [
       "MapView(layout=Layout(height='400px', width='100%'), legend=True)"
      ]
     },
     "metadata": {},
     "output_type": "display_data"
    },
    {
     "data": {
      "text/html": [
       "<div class=\"map-static-img-preview-d12b4b42-e559-4bbf-814d-702345fbfa03\"><img src=\"\"></img></div>"
      ],
      "text/plain": [
       "<IPython.core.display.HTML object>"
      ]
     },
     "metadata": {},
     "output_type": "display_data"
    }
   ],
   "source": [
    "#try working around with adding slope condition by adding slope layer and use it as the first in computation\n",
    "\n",
    "#combine all binary layers by multiplication\n",
    "clrmap1_w = [[1, 18, 117, 12], [0, 0, 7, 0]]\n",
    "tech1_w = raster_calculator(rasters = [slope_m, rainfall_m, temp_m, ero_m], input_names = [\"a\",\"b\",\"c\",\"d\"], expression = \"a * b * c * d\", extent_type='FirstOf', cellsize_type='FirstOf', astype='UNKNOWN')\n",
    "cl1_w = colormap(tech1_w, colormap=clrmap1_w)\n",
    "\n",
    "#map the combined layer\n",
    "map1_w = gis.map()\n",
    "map1_w.extent = study_area_extent\n",
    "map1_w.legend=True\n",
    "map1_w.add_layer(cl1_w)\n",
    "map1_w\n",
    "\n",
    "#This time the layer is shown on the map\n",
    "#value 1 and the green color indicates the best suitable areas to grow avocado trees"
   ]
  },
  {
   "cell_type": "code",
   "execution_count": 27,
   "metadata": {},
   "outputs": [
    {
     "data": {
      "text/plain": [
       "{'rasterFunction': 'Colormap',\n",
       " 'rasterFunctionArguments': {'Colormap': [[1, 18, 117, 12], [0, 0, 7, 0]],\n",
       "  'Raster': {'outputPixelType': 'UNKNOWN',\n",
       "   'rasterFunction': 'RasterCalculator',\n",
       "   'rasterFunctionArguments': {'CellsizeType': 0,\n",
       "    'Expression': 'a * b * c * d',\n",
       "    'ExtentType': 0,\n",
       "    'InputNames': ['a', 'b', 'c', 'd'],\n",
       "    'Rasters': [{'rasterFunction': 'Colormap',\n",
       "      'rasterFunctionArguments': {'Colormap': [[1, 54, 201, 76],\n",
       "        [0, 8, 81, 19]],\n",
       "       'Raster': {'outputPixelType': 'U8',\n",
       "        'rasterFunction': 'Remap',\n",
       "        'rasterFunctionArguments': {'InputRanges': [0, 15, 15, 90],\n",
       "         'OutputValues': [1, 0],\n",
       "         'Raster': {'rasterFunction': 'Clip',\n",
       "          'rasterFunctionArguments': {'ClipType': 1,\n",
       "           'ClippingGeometry': {'rings': [[[-13038640.2378045,\n",
       "               3833847.56313313],\n",
       "              [-13046623.4026057, 3857991.25757854],\n",
       "              [-13037806.2894249, 3842709.77649226],\n",
       "              [-13038242.9630011, 3852764.625192],\n",
       "              [-13046507.9224498, 3860702.91542385],\n",
       "              [-13052010.6888388, 3852918.36925318],\n",
       "              [-13056142.698569, 3875572.5844261],\n",
       "              [-13052752.1896589, 3880470.16217001],\n",
       "              [-13060942.1288156, 3910110.69831699],\n",
       "              [-13070037.4669952, 3926416.80993839],\n",
       "              [-13090875.0407958, 3947789.6111035],\n",
       "              [-13088850.2944962, 3956573.52304734],\n",
       "              [-13083096.9145435, 3957334.95729047],\n",
       "              [-13081091.6600256, 3960320.76148142],\n",
       "              [-13081044.9604849, 3962992.62952016],\n",
       "              [-13064742.9108947, 3963248.36768519],\n",
       "              [-13065162.4628438, 3960696.59973376],\n",
       "              [-13050808.7840634, 3954550.54729093],\n",
       "              [-13050743.3943262, 3953033.60970995],\n",
       "              [-13027843.751501, 3953125.99386067],\n",
       "              [-13027782.6003613, 3952155.15750851],\n",
       "              [-12922233.0458749, 3951969.51409108],\n",
       "              [-12922139.2950188, 3905207.95747332],\n",
       "              [-12924640.5058097, 3905050.31386036],\n",
       "              [-12924969.1787687, 3844903.30316599],\n",
       "              [-13038640.2378045, 3833847.56313313]]],\n",
       "            'spatialReference': {'latestWkid': 3857, 'wkid': 102100}},\n",
       "           'Raster': {'rasterFunction': 'Slope',\n",
       "            'rasterFunctionArguments': {'Raster': '$$',\n",
       "             'SlopeType': 'DEGREE',\n",
       "             'ZFactor': 10},\n",
       "            'variableName': 'Raster'}}}},\n",
       "        'variableName': 'Raster'}},\n",
       "      'variableName': 'Raster'},\n",
       "     {'rasterFunction': 'Colormap',\n",
       "      'rasterFunctionArguments': {'Colormap': [[1, 192, 221, 234],\n",
       "        [0, 13, 71, 165]],\n",
       "       'Raster': {'outputPixelType': 'U8',\n",
       "        'rasterFunction': 'Remap',\n",
       "        'rasterFunctionArguments': {'InputRanges': [0, 30, 30, 300],\n",
       "         'OutputValues': [1, 0],\n",
       "         'Raster': {'rasterFunction': 'Clip',\n",
       "          'rasterFunctionArguments': {'ClipType': 1,\n",
       "           'ClippingGeometry': {'rings': [[[-13038640.2378045,\n",
       "               3833847.56313313],\n",
       "              [-13046623.4026057, 3857991.25757854],\n",
       "              [-13037806.2894249, 3842709.77649226],\n",
       "              [-13038242.9630011, 3852764.625192],\n",
       "              [-13046507.9224498, 3860702.91542385],\n",
       "              [-13052010.6888388, 3852918.36925318],\n",
       "              [-13056142.698569, 3875572.5844261],\n",
       "              [-13052752.1896589, 3880470.16217001],\n",
       "              [-13060942.1288156, 3910110.69831699],\n",
       "              [-13070037.4669952, 3926416.80993839],\n",
       "              [-13090875.0407958, 3947789.6111035],\n",
       "              [-13088850.2944962, 3956573.52304734],\n",
       "              [-13083096.9145435, 3957334.95729047],\n",
       "              [-13081091.6600256, 3960320.76148142],\n",
       "              [-13081044.9604849, 3962992.62952016],\n",
       "              [-13064742.9108947, 3963248.36768519],\n",
       "              [-13065162.4628438, 3960696.59973376],\n",
       "              [-13050808.7840634, 3954550.54729093],\n",
       "              [-13050743.3943262, 3953033.60970995],\n",
       "              [-13027843.751501, 3953125.99386067],\n",
       "              [-13027782.6003613, 3952155.15750851],\n",
       "              [-12922233.0458749, 3951969.51409108],\n",
       "              [-12922139.2950188, 3905207.95747332],\n",
       "              [-12924640.5058097, 3905050.31386036],\n",
       "              [-12924969.1787687, 3844903.30316599],\n",
       "              [-13038640.2378045, 3833847.56313313]]],\n",
       "            'spatialReference': {'latestWkid': 3857, 'wkid': 102100}},\n",
       "           'Raster': 'https://landscape3.arcgis.com/arcgis/rest/services/USA_Mean_Rainfall/ImageServer'}}},\n",
       "        'variableName': 'Raster'}},\n",
       "      'variableName': 'Raster'},\n",
       "     {'rasterFunction': 'Colormap',\n",
       "      'rasterFunctionArguments': {'Colormap': [[1, 188, 54, 39],\n",
       "        [0, 247, 170, 61]],\n",
       "       'Raster': {'outputPixelType': 'U8',\n",
       "        'rasterFunction': 'Remap',\n",
       "        'rasterFunctionArguments': {'InputRanges': [-10, 15, 15, 30],\n",
       "         'OutputValues': [0, 1],\n",
       "         'Raster': {'rasterFunction': 'Clip',\n",
       "          'rasterFunctionArguments': {'ClipType': 1,\n",
       "           'ClippingGeometry': {'rings': [[[-13038640.2378045,\n",
       "               3833847.56313313],\n",
       "              [-13046623.4026057, 3857991.25757854],\n",
       "              [-13037806.2894249, 3842709.77649226],\n",
       "              [-13038242.9630011, 3852764.625192],\n",
       "              [-13046507.9224498, 3860702.91542385],\n",
       "              [-13052010.6888388, 3852918.36925318],\n",
       "              [-13056142.698569, 3875572.5844261],\n",
       "              [-13052752.1896589, 3880470.16217001],\n",
       "              [-13060942.1288156, 3910110.69831699],\n",
       "              [-13070037.4669952, 3926416.80993839],\n",
       "              [-13090875.0407958, 3947789.6111035],\n",
       "              [-13088850.2944962, 3956573.52304734],\n",
       "              [-13083096.9145435, 3957334.95729047],\n",
       "              [-13081091.6600256, 3960320.76148142],\n",
       "              [-13081044.9604849, 3962992.62952016],\n",
       "              [-13064742.9108947, 3963248.36768519],\n",
       "              [-13065162.4628438, 3960696.59973376],\n",
       "              [-13050808.7840634, 3954550.54729093],\n",
       "              [-13050743.3943262, 3953033.60970995],\n",
       "              [-13027843.751501, 3953125.99386067],\n",
       "              [-13027782.6003613, 3952155.15750851],\n",
       "              [-12922233.0458749, 3951969.51409108],\n",
       "              [-12922139.2950188, 3905207.95747332],\n",
       "              [-12924640.5058097, 3905050.31386036],\n",
       "              [-12924969.1787687, 3844903.30316599],\n",
       "              [-13038640.2378045, 3833847.56313313]]],\n",
       "            'spatialReference': {'latestWkid': 3857, 'wkid': 102100}},\n",
       "           'Raster': 'https://landscape3.arcgis.com/arcgis/rest/services/USA_Mean_Temperature/ImageServer'}}},\n",
       "        'variableName': 'Raster'}},\n",
       "      'variableName': 'Raster'},\n",
       "     {'rasterFunction': 'Colormap',\n",
       "      'rasterFunctionArguments': {'Colormap': [[1, 183, 157, 132],\n",
       "        [0, 99, 54, 11]],\n",
       "       'Raster': {'outputPixelType': 'U8',\n",
       "        'rasterFunction': 'Remap',\n",
       "        'rasterFunctionArguments': {'InputRanges': [0, 0.2, 0.2, 0.7],\n",
       "         'OutputValues': [1, 0],\n",
       "         'Raster': {'rasterFunction': 'Clip',\n",
       "          'rasterFunctionArguments': {'ClipType': 1,\n",
       "           'ClippingGeometry': {'rings': [[[-13038640.2378045,\n",
       "               3833847.56313313],\n",
       "              [-13046623.4026057, 3857991.25757854],\n",
       "              [-13037806.2894249, 3842709.77649226],\n",
       "              [-13038242.9630011, 3852764.625192],\n",
       "              [-13046507.9224498, 3860702.91542385],\n",
       "              [-13052010.6888388, 3852918.36925318],\n",
       "              [-13056142.698569, 3875572.5844261],\n",
       "              [-13052752.1896589, 3880470.16217001],\n",
       "              [-13060942.1288156, 3910110.69831699],\n",
       "              [-13070037.4669952, 3926416.80993839],\n",
       "              [-13090875.0407958, 3947789.6111035],\n",
       "              [-13088850.2944962, 3956573.52304734],\n",
       "              [-13083096.9145435, 3957334.95729047],\n",
       "              [-13081091.6600256, 3960320.76148142],\n",
       "              [-13081044.9604849, 3962992.62952016],\n",
       "              [-13064742.9108947, 3963248.36768519],\n",
       "              [-13065162.4628438, 3960696.59973376],\n",
       "              [-13050808.7840634, 3954550.54729093],\n",
       "              [-13050743.3943262, 3953033.60970995],\n",
       "              [-13027843.751501, 3953125.99386067],\n",
       "              [-13027782.6003613, 3952155.15750851],\n",
       "              [-12922233.0458749, 3951969.51409108],\n",
       "              [-12922139.2950188, 3905207.95747332],\n",
       "              [-12924640.5058097, 3905050.31386036],\n",
       "              [-12924969.1787687, 3844903.30316599],\n",
       "              [-13038640.2378045, 3833847.56313313]]],\n",
       "            'spatialReference': {'latestWkid': 3857, 'wkid': 102100}},\n",
       "           'Raster': 'https://landscape11.arcgis.com/arcgis/rest/services/USA_Soils_Erodibility_Factor/ImageServer'}}},\n",
       "        'variableName': 'Raster'}},\n",
       "      'variableName': 'Raster'}]},\n",
       "   'variableName': 'Rasters'}},\n",
       " 'variableName': 'Raster'}"
      ]
     },
     "execution_count": 27,
     "metadata": {},
     "output_type": "execute_result"
    }
   ],
   "source": [
    "#checking layer provenece\n",
    "cl1_w._fn"
   ]
  },
  {
   "cell_type": "code",
   "execution_count": null,
   "metadata": {
    "deletable": false,
    "nbgrader": {
     "checksum": "07c9a317ead4270f4b278532a73208f9",
     "grade": true,
     "grade_id": "cell-8987729052b0ede1",
     "locked": false,
     "points": 5,
     "schema_version": 1,
     "solution": true
    }
   },
   "outputs": [],
   "source": [
    "# YOUR CODE HERE\n",
    "#raise NotImplementedError()"
   ]
  },
  {
   "cell_type": "code",
   "execution_count": null,
   "metadata": {
    "deletable": false,
    "editable": false,
    "nbgrader": {
     "checksum": "38b54d7329f3f6951224212c296e215c",
     "grade": false,
     "grade_id": "cell-30672e3542f7be9c",
     "locked": true,
     "schema_version": 1,
     "solution": false
    }
   },
   "outputs": [],
   "source": [
    "# 7b. Generate a composite raster layer for your second map combination technique\n",
    "# name of the technique (refer to lecture PPT):"
   ]
  },
  {
   "cell_type": "code",
   "execution_count": 19,
   "metadata": {},
   "outputs": [
    {
     "data": {
      "application/vnd.jupyter.widget-view+json": {
       "model_id": "a250a19a4ffc45508088a4b2091f34c9",
       "version_major": 2,
       "version_minor": 0
      },
      "text/plain": [
       "MapView(layout=Layout(height='400px', width='100%'), legend=True)"
      ]
     },
     "metadata": {},
     "output_type": "display_data"
    },
    {
     "data": {
      "text/html": [
       "<div class=\"map-static-img-preview-83c0954d-9b5e-4d45-82db-14f582c79a31\"><img src=\"\"></img></div>"
      ],
      "text/plain": [
       "<IPython.core.display.HTML object>"
      ]
     },
     "metadata": {},
     "output_type": "display_data"
    }
   ],
   "source": [
    "# name of the technique (refer to lecture PPT): Voting Tabulation\n",
    "\n",
    "#combine all binary layers by addition\n",
    "clrmap2 = [[3, 247, 142, 22], [2, 247, 166, 74], [1, 244, 189, 127], [0, 244, 227, 208]]\n",
    "tech2 = raster_calculator(rasters = [rainfall_m, temp_m, ero_m], input_names = [\"a\",\"b\",\"c\"], expression = \"a + b + c\", extent_type='FirstOf', cellsize_type='FirstOf', astype='UNKNOWN')\n",
    "cl2 = colormap(tech2, colormap=clrmap2)\n",
    "\n",
    "#map the combined layer\n",
    "map2 = gis.map()\n",
    "map2.extent = study_area_extent\n",
    "map2.legend=True\n",
    "map2.add_layer(cl2)\n",
    "map2\n",
    "\n",
    "#was also unable to show the lawer"
   ]
  },
  {
   "cell_type": "code",
   "execution_count": 28,
   "metadata": {},
   "outputs": [
    {
     "data": {
      "text/plain": [
       "{'rasterFunction': 'Colormap',\n",
       " 'rasterFunctionArguments': {'Colormap': [[3, 247, 142, 22],\n",
       "   [2, 247, 166, 74],\n",
       "   [1, 244, 189, 127],\n",
       "   [0, 244, 227, 208]],\n",
       "  'Raster': {'outputPixelType': 'UNKNOWN',\n",
       "   'rasterFunction': 'RasterCalculator',\n",
       "   'rasterFunctionArguments': {'CellsizeType': 0,\n",
       "    'Expression': 'a + b + c',\n",
       "    'ExtentType': 0,\n",
       "    'InputNames': ['a', 'b', 'c'],\n",
       "    'Rasters': [{'rasterFunction': 'Colormap',\n",
       "      'rasterFunctionArguments': {'Colormap': [[1, 192, 221, 234],\n",
       "        [0, 13, 71, 165]],\n",
       "       'Raster': {'outputPixelType': 'U8',\n",
       "        'rasterFunction': 'Remap',\n",
       "        'rasterFunctionArguments': {'InputRanges': [0, 30, 30, 300],\n",
       "         'OutputValues': [1, 0],\n",
       "         'Raster': {'rasterFunction': 'Clip',\n",
       "          'rasterFunctionArguments': {'ClipType': 1,\n",
       "           'ClippingGeometry': {'rings': [[[-13038640.2378045,\n",
       "               3833847.56313313],\n",
       "              [-13046623.4026057, 3857991.25757854],\n",
       "              [-13037806.2894249, 3842709.77649226],\n",
       "              [-13038242.9630011, 3852764.625192],\n",
       "              [-13046507.9224498, 3860702.91542385],\n",
       "              [-13052010.6888388, 3852918.36925318],\n",
       "              [-13056142.698569, 3875572.5844261],\n",
       "              [-13052752.1896589, 3880470.16217001],\n",
       "              [-13060942.1288156, 3910110.69831699],\n",
       "              [-13070037.4669952, 3926416.80993839],\n",
       "              [-13090875.0407958, 3947789.6111035],\n",
       "              [-13088850.2944962, 3956573.52304734],\n",
       "              [-13083096.9145435, 3957334.95729047],\n",
       "              [-13081091.6600256, 3960320.76148142],\n",
       "              [-13081044.9604849, 3962992.62952016],\n",
       "              [-13064742.9108947, 3963248.36768519],\n",
       "              [-13065162.4628438, 3960696.59973376],\n",
       "              [-13050808.7840634, 3954550.54729093],\n",
       "              [-13050743.3943262, 3953033.60970995],\n",
       "              [-13027843.751501, 3953125.99386067],\n",
       "              [-13027782.6003613, 3952155.15750851],\n",
       "              [-12922233.0458749, 3951969.51409108],\n",
       "              [-12922139.2950188, 3905207.95747332],\n",
       "              [-12924640.5058097, 3905050.31386036],\n",
       "              [-12924969.1787687, 3844903.30316599],\n",
       "              [-13038640.2378045, 3833847.56313313]]],\n",
       "            'spatialReference': {'latestWkid': 3857, 'wkid': 102100}},\n",
       "           'Raster': '$$'}}},\n",
       "        'variableName': 'Raster'}},\n",
       "      'variableName': 'Raster'},\n",
       "     {'rasterFunction': 'Colormap',\n",
       "      'rasterFunctionArguments': {'Colormap': [[1, 188, 54, 39],\n",
       "        [0, 247, 170, 61]],\n",
       "       'Raster': {'outputPixelType': 'U8',\n",
       "        'rasterFunction': 'Remap',\n",
       "        'rasterFunctionArguments': {'InputRanges': [-10, 15, 15, 30],\n",
       "         'OutputValues': [0, 1],\n",
       "         'Raster': {'rasterFunction': 'Clip',\n",
       "          'rasterFunctionArguments': {'ClipType': 1,\n",
       "           'ClippingGeometry': {'rings': [[[-13038640.2378045,\n",
       "               3833847.56313313],\n",
       "              [-13046623.4026057, 3857991.25757854],\n",
       "              [-13037806.2894249, 3842709.77649226],\n",
       "              [-13038242.9630011, 3852764.625192],\n",
       "              [-13046507.9224498, 3860702.91542385],\n",
       "              [-13052010.6888388, 3852918.36925318],\n",
       "              [-13056142.698569, 3875572.5844261],\n",
       "              [-13052752.1896589, 3880470.16217001],\n",
       "              [-13060942.1288156, 3910110.69831699],\n",
       "              [-13070037.4669952, 3926416.80993839],\n",
       "              [-13090875.0407958, 3947789.6111035],\n",
       "              [-13088850.2944962, 3956573.52304734],\n",
       "              [-13083096.9145435, 3957334.95729047],\n",
       "              [-13081091.6600256, 3960320.76148142],\n",
       "              [-13081044.9604849, 3962992.62952016],\n",
       "              [-13064742.9108947, 3963248.36768519],\n",
       "              [-13065162.4628438, 3960696.59973376],\n",
       "              [-13050808.7840634, 3954550.54729093],\n",
       "              [-13050743.3943262, 3953033.60970995],\n",
       "              [-13027843.751501, 3953125.99386067],\n",
       "              [-13027782.6003613, 3952155.15750851],\n",
       "              [-12922233.0458749, 3951969.51409108],\n",
       "              [-12922139.2950188, 3905207.95747332],\n",
       "              [-12924640.5058097, 3905050.31386036],\n",
       "              [-12924969.1787687, 3844903.30316599],\n",
       "              [-13038640.2378045, 3833847.56313313]]],\n",
       "            'spatialReference': {'latestWkid': 3857, 'wkid': 102100}},\n",
       "           'Raster': 'https://landscape3.arcgis.com/arcgis/rest/services/USA_Mean_Temperature/ImageServer'}}},\n",
       "        'variableName': 'Raster'}},\n",
       "      'variableName': 'Raster'},\n",
       "     {'rasterFunction': 'Colormap',\n",
       "      'rasterFunctionArguments': {'Colormap': [[1, 183, 157, 132],\n",
       "        [0, 99, 54, 11]],\n",
       "       'Raster': {'outputPixelType': 'U8',\n",
       "        'rasterFunction': 'Remap',\n",
       "        'rasterFunctionArguments': {'InputRanges': [0, 0.2, 0.2, 0.7],\n",
       "         'OutputValues': [1, 0],\n",
       "         'Raster': {'rasterFunction': 'Clip',\n",
       "          'rasterFunctionArguments': {'ClipType': 1,\n",
       "           'ClippingGeometry': {'rings': [[[-13038640.2378045,\n",
       "               3833847.56313313],\n",
       "              [-13046623.4026057, 3857991.25757854],\n",
       "              [-13037806.2894249, 3842709.77649226],\n",
       "              [-13038242.9630011, 3852764.625192],\n",
       "              [-13046507.9224498, 3860702.91542385],\n",
       "              [-13052010.6888388, 3852918.36925318],\n",
       "              [-13056142.698569, 3875572.5844261],\n",
       "              [-13052752.1896589, 3880470.16217001],\n",
       "              [-13060942.1288156, 3910110.69831699],\n",
       "              [-13070037.4669952, 3926416.80993839],\n",
       "              [-13090875.0407958, 3947789.6111035],\n",
       "              [-13088850.2944962, 3956573.52304734],\n",
       "              [-13083096.9145435, 3957334.95729047],\n",
       "              [-13081091.6600256, 3960320.76148142],\n",
       "              [-13081044.9604849, 3962992.62952016],\n",
       "              [-13064742.9108947, 3963248.36768519],\n",
       "              [-13065162.4628438, 3960696.59973376],\n",
       "              [-13050808.7840634, 3954550.54729093],\n",
       "              [-13050743.3943262, 3953033.60970995],\n",
       "              [-13027843.751501, 3953125.99386067],\n",
       "              [-13027782.6003613, 3952155.15750851],\n",
       "              [-12922233.0458749, 3951969.51409108],\n",
       "              [-12922139.2950188, 3905207.95747332],\n",
       "              [-12924640.5058097, 3905050.31386036],\n",
       "              [-12924969.1787687, 3844903.30316599],\n",
       "              [-13038640.2378045, 3833847.56313313]]],\n",
       "            'spatialReference': {'latestWkid': 3857, 'wkid': 102100}},\n",
       "           'Raster': 'https://landscape11.arcgis.com/arcgis/rest/services/USA_Soils_Erodibility_Factor/ImageServer'}}},\n",
       "        'variableName': 'Raster'}},\n",
       "      'variableName': 'Raster'}]},\n",
       "   'variableName': 'Rasters'}},\n",
       " 'variableName': 'Raster'}"
      ]
     },
     "execution_count": 28,
     "metadata": {},
     "output_type": "execute_result"
    }
   ],
   "source": [
    "#checking layer provenece\n",
    "cl2._fn"
   ]
  },
  {
   "cell_type": "code",
   "execution_count": 20,
   "metadata": {},
   "outputs": [
    {
     "data": {
      "application/vnd.jupyter.widget-view+json": {
       "model_id": "81b77edfe5414d789f14ee5a4df982c0",
       "version_major": 2,
       "version_minor": 0
      },
      "text/plain": [
       "MapView(layout=Layout(height='400px', width='100%'), legend=True)"
      ]
     },
     "metadata": {},
     "output_type": "display_data"
    },
    {
     "data": {
      "text/html": [
       "<div class=\"map-static-img-preview-f31383a4-7991-4c0d-b77a-32a7d724fa70\"><img src=\"\"></img></div>"
      ],
      "text/plain": [
       "<IPython.core.display.HTML object>"
      ]
     },
     "metadata": {},
     "output_type": "display_data"
    }
   ],
   "source": [
    "#try working around with using slope layer as the first in computation\n",
    "\n",
    "#combine all binary layers by multiplication\n",
    "clrmap2_w = [[4, 0, 5, 12], [3, 30, 81, 153], [2, 73, 138, 229], [1, 124, 170, 234], [0, 206, 220, 239]]\n",
    "tech2_w = raster_calculator(rasters = [slope_m, rainfall_m, temp_m, ero_m], input_names = [\"a\",\"b\",\"c\",\"d\"], expression = \"a + b + c + d\", extent_type='FirstOf', cellsize_type='FirstOf', astype='UNKNOWN')\n",
    "cl2_w = colormap(tech2_w, colormap=clrmap2_w)\n",
    "\n",
    "#map the combined layer\n",
    "map2_w = gis.map()\n",
    "map2_w.extent = study_area_extent\n",
    "map2_w.legend=True\n",
    "map2_w.add_layer(cl2_w)\n",
    "map2_w\n",
    "\n",
    "\n",
    "#layer is shown on the map\n",
    "#Greater values indicate areas with more conditions satisfied to grow avocado trees\n",
    "#Greater values are represented by darker color"
   ]
  },
  {
   "cell_type": "code",
   "execution_count": 29,
   "metadata": {},
   "outputs": [
    {
     "data": {
      "text/plain": [
       "{'rasterFunction': 'Colormap',\n",
       " 'rasterFunctionArguments': {'Colormap': [[4, 0, 5, 12],\n",
       "   [3, 30, 81, 153],\n",
       "   [2, 73, 138, 229],\n",
       "   [1, 124, 170, 234],\n",
       "   [0, 206, 220, 239]],\n",
       "  'Raster': {'outputPixelType': 'UNKNOWN',\n",
       "   'rasterFunction': 'RasterCalculator',\n",
       "   'rasterFunctionArguments': {'CellsizeType': 0,\n",
       "    'Expression': 'a + b + c + d',\n",
       "    'ExtentType': 0,\n",
       "    'InputNames': ['a', 'b', 'c', 'd'],\n",
       "    'Rasters': [{'rasterFunction': 'Colormap',\n",
       "      'rasterFunctionArguments': {'Colormap': [[1, 54, 201, 76],\n",
       "        [0, 8, 81, 19]],\n",
       "       'Raster': {'outputPixelType': 'U8',\n",
       "        'rasterFunction': 'Remap',\n",
       "        'rasterFunctionArguments': {'InputRanges': [0, 15, 15, 90],\n",
       "         'OutputValues': [1, 0],\n",
       "         'Raster': {'rasterFunction': 'Clip',\n",
       "          'rasterFunctionArguments': {'ClipType': 1,\n",
       "           'ClippingGeometry': {'rings': [[[-13038640.2378045,\n",
       "               3833847.56313313],\n",
       "              [-13046623.4026057, 3857991.25757854],\n",
       "              [-13037806.2894249, 3842709.77649226],\n",
       "              [-13038242.9630011, 3852764.625192],\n",
       "              [-13046507.9224498, 3860702.91542385],\n",
       "              [-13052010.6888388, 3852918.36925318],\n",
       "              [-13056142.698569, 3875572.5844261],\n",
       "              [-13052752.1896589, 3880470.16217001],\n",
       "              [-13060942.1288156, 3910110.69831699],\n",
       "              [-13070037.4669952, 3926416.80993839],\n",
       "              [-13090875.0407958, 3947789.6111035],\n",
       "              [-13088850.2944962, 3956573.52304734],\n",
       "              [-13083096.9145435, 3957334.95729047],\n",
       "              [-13081091.6600256, 3960320.76148142],\n",
       "              [-13081044.9604849, 3962992.62952016],\n",
       "              [-13064742.9108947, 3963248.36768519],\n",
       "              [-13065162.4628438, 3960696.59973376],\n",
       "              [-13050808.7840634, 3954550.54729093],\n",
       "              [-13050743.3943262, 3953033.60970995],\n",
       "              [-13027843.751501, 3953125.99386067],\n",
       "              [-13027782.6003613, 3952155.15750851],\n",
       "              [-12922233.0458749, 3951969.51409108],\n",
       "              [-12922139.2950188, 3905207.95747332],\n",
       "              [-12924640.5058097, 3905050.31386036],\n",
       "              [-12924969.1787687, 3844903.30316599],\n",
       "              [-13038640.2378045, 3833847.56313313]]],\n",
       "            'spatialReference': {'latestWkid': 3857, 'wkid': 102100}},\n",
       "           'Raster': {'rasterFunction': 'Slope',\n",
       "            'rasterFunctionArguments': {'Raster': '$$',\n",
       "             'SlopeType': 'DEGREE',\n",
       "             'ZFactor': 10},\n",
       "            'variableName': 'Raster'}}}},\n",
       "        'variableName': 'Raster'}},\n",
       "      'variableName': 'Raster'},\n",
       "     {'rasterFunction': 'Colormap',\n",
       "      'rasterFunctionArguments': {'Colormap': [[1, 192, 221, 234],\n",
       "        [0, 13, 71, 165]],\n",
       "       'Raster': {'outputPixelType': 'U8',\n",
       "        'rasterFunction': 'Remap',\n",
       "        'rasterFunctionArguments': {'InputRanges': [0, 30, 30, 300],\n",
       "         'OutputValues': [1, 0],\n",
       "         'Raster': {'rasterFunction': 'Clip',\n",
       "          'rasterFunctionArguments': {'ClipType': 1,\n",
       "           'ClippingGeometry': {'rings': [[[-13038640.2378045,\n",
       "               3833847.56313313],\n",
       "              [-13046623.4026057, 3857991.25757854],\n",
       "              [-13037806.2894249, 3842709.77649226],\n",
       "              [-13038242.9630011, 3852764.625192],\n",
       "              [-13046507.9224498, 3860702.91542385],\n",
       "              [-13052010.6888388, 3852918.36925318],\n",
       "              [-13056142.698569, 3875572.5844261],\n",
       "              [-13052752.1896589, 3880470.16217001],\n",
       "              [-13060942.1288156, 3910110.69831699],\n",
       "              [-13070037.4669952, 3926416.80993839],\n",
       "              [-13090875.0407958, 3947789.6111035],\n",
       "              [-13088850.2944962, 3956573.52304734],\n",
       "              [-13083096.9145435, 3957334.95729047],\n",
       "              [-13081091.6600256, 3960320.76148142],\n",
       "              [-13081044.9604849, 3962992.62952016],\n",
       "              [-13064742.9108947, 3963248.36768519],\n",
       "              [-13065162.4628438, 3960696.59973376],\n",
       "              [-13050808.7840634, 3954550.54729093],\n",
       "              [-13050743.3943262, 3953033.60970995],\n",
       "              [-13027843.751501, 3953125.99386067],\n",
       "              [-13027782.6003613, 3952155.15750851],\n",
       "              [-12922233.0458749, 3951969.51409108],\n",
       "              [-12922139.2950188, 3905207.95747332],\n",
       "              [-12924640.5058097, 3905050.31386036],\n",
       "              [-12924969.1787687, 3844903.30316599],\n",
       "              [-13038640.2378045, 3833847.56313313]]],\n",
       "            'spatialReference': {'latestWkid': 3857, 'wkid': 102100}},\n",
       "           'Raster': 'https://landscape3.arcgis.com/arcgis/rest/services/USA_Mean_Rainfall/ImageServer'}}},\n",
       "        'variableName': 'Raster'}},\n",
       "      'variableName': 'Raster'},\n",
       "     {'rasterFunction': 'Colormap',\n",
       "      'rasterFunctionArguments': {'Colormap': [[1, 188, 54, 39],\n",
       "        [0, 247, 170, 61]],\n",
       "       'Raster': {'outputPixelType': 'U8',\n",
       "        'rasterFunction': 'Remap',\n",
       "        'rasterFunctionArguments': {'InputRanges': [-10, 15, 15, 30],\n",
       "         'OutputValues': [0, 1],\n",
       "         'Raster': {'rasterFunction': 'Clip',\n",
       "          'rasterFunctionArguments': {'ClipType': 1,\n",
       "           'ClippingGeometry': {'rings': [[[-13038640.2378045,\n",
       "               3833847.56313313],\n",
       "              [-13046623.4026057, 3857991.25757854],\n",
       "              [-13037806.2894249, 3842709.77649226],\n",
       "              [-13038242.9630011, 3852764.625192],\n",
       "              [-13046507.9224498, 3860702.91542385],\n",
       "              [-13052010.6888388, 3852918.36925318],\n",
       "              [-13056142.698569, 3875572.5844261],\n",
       "              [-13052752.1896589, 3880470.16217001],\n",
       "              [-13060942.1288156, 3910110.69831699],\n",
       "              [-13070037.4669952, 3926416.80993839],\n",
       "              [-13090875.0407958, 3947789.6111035],\n",
       "              [-13088850.2944962, 3956573.52304734],\n",
       "              [-13083096.9145435, 3957334.95729047],\n",
       "              [-13081091.6600256, 3960320.76148142],\n",
       "              [-13081044.9604849, 3962992.62952016],\n",
       "              [-13064742.9108947, 3963248.36768519],\n",
       "              [-13065162.4628438, 3960696.59973376],\n",
       "              [-13050808.7840634, 3954550.54729093],\n",
       "              [-13050743.3943262, 3953033.60970995],\n",
       "              [-13027843.751501, 3953125.99386067],\n",
       "              [-13027782.6003613, 3952155.15750851],\n",
       "              [-12922233.0458749, 3951969.51409108],\n",
       "              [-12922139.2950188, 3905207.95747332],\n",
       "              [-12924640.5058097, 3905050.31386036],\n",
       "              [-12924969.1787687, 3844903.30316599],\n",
       "              [-13038640.2378045, 3833847.56313313]]],\n",
       "            'spatialReference': {'latestWkid': 3857, 'wkid': 102100}},\n",
       "           'Raster': 'https://landscape3.arcgis.com/arcgis/rest/services/USA_Mean_Temperature/ImageServer'}}},\n",
       "        'variableName': 'Raster'}},\n",
       "      'variableName': 'Raster'},\n",
       "     {'rasterFunction': 'Colormap',\n",
       "      'rasterFunctionArguments': {'Colormap': [[1, 183, 157, 132],\n",
       "        [0, 99, 54, 11]],\n",
       "       'Raster': {'outputPixelType': 'U8',\n",
       "        'rasterFunction': 'Remap',\n",
       "        'rasterFunctionArguments': {'InputRanges': [0, 0.2, 0.2, 0.7],\n",
       "         'OutputValues': [1, 0],\n",
       "         'Raster': {'rasterFunction': 'Clip',\n",
       "          'rasterFunctionArguments': {'ClipType': 1,\n",
       "           'ClippingGeometry': {'rings': [[[-13038640.2378045,\n",
       "               3833847.56313313],\n",
       "              [-13046623.4026057, 3857991.25757854],\n",
       "              [-13037806.2894249, 3842709.77649226],\n",
       "              [-13038242.9630011, 3852764.625192],\n",
       "              [-13046507.9224498, 3860702.91542385],\n",
       "              [-13052010.6888388, 3852918.36925318],\n",
       "              [-13056142.698569, 3875572.5844261],\n",
       "              [-13052752.1896589, 3880470.16217001],\n",
       "              [-13060942.1288156, 3910110.69831699],\n",
       "              [-13070037.4669952, 3926416.80993839],\n",
       "              [-13090875.0407958, 3947789.6111035],\n",
       "              [-13088850.2944962, 3956573.52304734],\n",
       "              [-13083096.9145435, 3957334.95729047],\n",
       "              [-13081091.6600256, 3960320.76148142],\n",
       "              [-13081044.9604849, 3962992.62952016],\n",
       "              [-13064742.9108947, 3963248.36768519],\n",
       "              [-13065162.4628438, 3960696.59973376],\n",
       "              [-13050808.7840634, 3954550.54729093],\n",
       "              [-13050743.3943262, 3953033.60970995],\n",
       "              [-13027843.751501, 3953125.99386067],\n",
       "              [-13027782.6003613, 3952155.15750851],\n",
       "              [-12922233.0458749, 3951969.51409108],\n",
       "              [-12922139.2950188, 3905207.95747332],\n",
       "              [-12924640.5058097, 3905050.31386036],\n",
       "              [-12924969.1787687, 3844903.30316599],\n",
       "              [-13038640.2378045, 3833847.56313313]]],\n",
       "            'spatialReference': {'latestWkid': 3857, 'wkid': 102100}},\n",
       "           'Raster': 'https://landscape11.arcgis.com/arcgis/rest/services/USA_Soils_Erodibility_Factor/ImageServer'}}},\n",
       "        'variableName': 'Raster'}},\n",
       "      'variableName': 'Raster'}]},\n",
       "   'variableName': 'Rasters'}},\n",
       " 'variableName': 'Raster'}"
      ]
     },
     "execution_count": 29,
     "metadata": {},
     "output_type": "execute_result"
    }
   ],
   "source": [
    "#checking layer provenece\n",
    "cl2_w._fn"
   ]
  },
  {
   "cell_type": "code",
   "execution_count": null,
   "metadata": {
    "deletable": false,
    "nbgrader": {
     "checksum": "a0cabf9c59274a87b1251f2e39034f10",
     "grade": true,
     "grade_id": "cell-d9b4d2772747236a",
     "locked": false,
     "points": 5,
     "schema_version": 1,
     "solution": true
    }
   },
   "outputs": [],
   "source": [
    "# YOUR CODE HERE\n",
    "#raise NotImplementedError()"
   ]
  },
  {
   "cell_type": "code",
   "execution_count": null,
   "metadata": {
    "deletable": false,
    "editable": false,
    "nbgrader": {
     "checksum": "09f02b8fa341438e759289f90c3a73e5",
     "grade": false,
     "grade_id": "cell-c15febfa1ae91b05",
     "locked": true,
     "schema_version": 1,
     "solution": false
    }
   },
   "outputs": [],
   "source": [
    "# 8. Compare the results, and describe how different map combination techniques resulted in different outputs (or not.)\n",
    "# "
   ]
  },
  {
   "cell_type": "markdown",
   "metadata": {},
   "source": [
    "   As we are unable to visualize the layers combination we perform, we will compare outputs as we expect. We expect that the map with the multiplication layer to only have San Diego areas classified to two color classes, either all conditions of precipitation, temperature, and soil erodibility are satisfied, or at least one conditions are not met. On the other hand, we expect that the map with the addition layer to have San Diego areas classified to four color classes, areas that have all three conditions met, areas that have two of the conditions met, areas that have only one condition met, and areas having no condition met. In the latter map, we can better visualize the rank of each area when it comes to the suitability of growing avocado trees. In the former map, we immediately recognize those areas that are the most suitable to grow avocado trees.  \n",
    "      \n",
    "   These expectations are confirmed after we perform the workaround method, using the slope/elevation layer in the first of raster computation. We see that by multiplication, the map is classified to two colors. Areas with darker colors are those with value 1, and thus the areas that satisfy all conditions for growing avocado trees. In the map with layer of raster addition, we see that areas are classified to five classes. Areas with darker colors have greater values, and thus more suitable to grow avocado trees.  \n",
    "      \n",
    "   In the latter map, we have to zoom in the map to better differentiate between areas as there are many colors involved, while we can immediately point out the areas in the former map which are best for growing avocado trees."
   ]
  },
  {
   "cell_type": "code",
   "execution_count": null,
   "metadata": {
    "deletable": false,
    "nbgrader": {
     "checksum": "ba766e99c73570a46c808b84dfe740b5",
     "grade": true,
     "grade_id": "cell-1465469141c58ea2",
     "locked": false,
     "points": 5,
     "schema_version": 1,
     "solution": true
    }
   },
   "outputs": [],
   "source": [
    "# YOUR CODE HERE\n",
    "#raise NotImplementedError()"
   ]
  },
  {
   "cell_type": "markdown",
   "metadata": {},
   "source": [
    "## Issue Report"
   ]
  },
  {
   "cell_type": "code",
   "execution_count": 21,
   "metadata": {},
   "outputs": [
    {
     "name": "stderr",
     "output_type": "stream",
     "text": [
      "Unable to complete operation.\n",
      "Authentication token required. (status code 499).\n"
     ]
    },
    {
     "ename": "RuntimeError",
     "evalue": "Unable to complete operation.\nAuthentication token required. (status code 499).\n(Error Code: 400)",
     "output_type": "error",
     "traceback": [
      "\u001b[0;31m---------------------------------------------------------------------------\u001b[0m",
      "\u001b[0;31mRuntimeError\u001b[0m                              Traceback (most recent call last)",
      "\u001b[0;32m<ipython-input-21-ce62be042a44>\u001b[0m in \u001b[0;36m<module>\u001b[0;34m()\u001b[0m\n\u001b[1;32m      1\u001b[0m \u001b[0;31m#unable to call compute_histograms on the combined layers (all three layers)\u001b[0m\u001b[0;34m\u001b[0m\u001b[0;34m\u001b[0m\u001b[0;34m\u001b[0m\u001b[0m\n\u001b[0;32m----> 2\u001b[0;31m \u001b[0mtech1\u001b[0m\u001b[0;34m.\u001b[0m\u001b[0mcompute_histograms\u001b[0m\u001b[0;34m(\u001b[0m\u001b[0mgeometry\u001b[0m\u001b[0;34m=\u001b[0m\u001b[0mstudy_area_geom\u001b[0m\u001b[0;34m)\u001b[0m\u001b[0;34m\u001b[0m\u001b[0;34m\u001b[0m\u001b[0m\n\u001b[0m\u001b[1;32m      3\u001b[0m \u001b[0mtech2\u001b[0m\u001b[0;34m.\u001b[0m\u001b[0mcompute_histograms\u001b[0m\u001b[0;34m(\u001b[0m\u001b[0mgeometry\u001b[0m\u001b[0;34m=\u001b[0m\u001b[0mstudy_area_geom\u001b[0m\u001b[0;34m)\u001b[0m\u001b[0;34m\u001b[0m\u001b[0;34m\u001b[0m\u001b[0m\n",
      "\u001b[0;32m/opt/conda/lib/python3.6/site-packages/arcgis/raster/_layer.py\u001b[0m in \u001b[0;36mcompute_histograms\u001b[0;34m(self, geometry, mosaic_rule, rendering_rule, pixel_size)\u001b[0m\n\u001b[1;32m   1987\u001b[0m             \u001b[0mparams\u001b[0m\u001b[0;34m[\u001b[0m\u001b[0;34m\"pixelSize\"\u001b[0m\u001b[0;34m]\u001b[0m \u001b[0;34m=\u001b[0m \u001b[0mpixel_size\u001b[0m\u001b[0;34m\u001b[0m\u001b[0;34m\u001b[0m\u001b[0m\n\u001b[1;32m   1988\u001b[0m \u001b[0;34m\u001b[0m\u001b[0m\n\u001b[0;32m-> 1989\u001b[0;31m         \u001b[0;32mreturn\u001b[0m \u001b[0mself\u001b[0m\u001b[0;34m.\u001b[0m\u001b[0m_con\u001b[0m\u001b[0;34m.\u001b[0m\u001b[0mpost\u001b[0m\u001b[0;34m(\u001b[0m\u001b[0murl\u001b[0m\u001b[0;34m,\u001b[0m \u001b[0mparams\u001b[0m\u001b[0;34m,\u001b[0m \u001b[0mtoken\u001b[0m\u001b[0;34m=\u001b[0m\u001b[0mself\u001b[0m\u001b[0;34m.\u001b[0m\u001b[0m_token\u001b[0m\u001b[0;34m)\u001b[0m\u001b[0;34m\u001b[0m\u001b[0;34m\u001b[0m\u001b[0m\n\u001b[0m\u001b[1;32m   1990\u001b[0m \u001b[0;34m\u001b[0m\u001b[0m\n\u001b[1;32m   1991\u001b[0m         \u001b[0;31m# ----------------------------------------------------------------------\u001b[0m\u001b[0;34m\u001b[0m\u001b[0;34m\u001b[0m\u001b[0;34m\u001b[0m\u001b[0m\n",
      "\u001b[0;32m/opt/conda/lib/python3.6/site-packages/arcgis/_impl/connection.py\u001b[0m in \u001b[0;36mpost\u001b[0;34m(self, path, postdata, files, ssl, compress, is_retry, use_ordered_dict, add_token, verify_cert, token, try_json, out_folder, file_name, force_bytes, add_headers)\u001b[0m\n\u001b[1;32m   1157\u001b[0m                                          verify_cert=verify_cert, is_retry=True)\n\u001b[1;32m   1158\u001b[0m \u001b[0;34m\u001b[0m\u001b[0m\n\u001b[0;32m-> 1159\u001b[0;31m                 \u001b[0mself\u001b[0m\u001b[0;34m.\u001b[0m\u001b[0m_handle_json_error\u001b[0m\u001b[0;34m(\u001b[0m\u001b[0mresp_json\u001b[0m\u001b[0;34m[\u001b[0m\u001b[0;34m'error'\u001b[0m\u001b[0;34m]\u001b[0m\u001b[0;34m,\u001b[0m \u001b[0merrorcode\u001b[0m\u001b[0;34m)\u001b[0m\u001b[0;34m\u001b[0m\u001b[0;34m\u001b[0m\u001b[0m\n\u001b[0m\u001b[1;32m   1160\u001b[0m                 \u001b[0;32mreturn\u001b[0m \u001b[0;32mNone\u001b[0m\u001b[0;34m\u001b[0m\u001b[0;34m\u001b[0m\u001b[0m\n\u001b[1;32m   1161\u001b[0m \u001b[0;34m\u001b[0m\u001b[0m\n",
      "\u001b[0;32m/opt/conda/lib/python3.6/site-packages/arcgis/_impl/connection.py\u001b[0m in \u001b[0;36m_handle_json_error\u001b[0;34m(self, error, errorcode)\u001b[0m\n\u001b[1;32m   1178\u001b[0m \u001b[0;34m\u001b[0m\u001b[0m\n\u001b[1;32m   1179\u001b[0m         \u001b[0merrormessage\u001b[0m \u001b[0;34m=\u001b[0m \u001b[0merrormessage\u001b[0m \u001b[0;34m+\u001b[0m \u001b[0;34m\"\\n(Error Code: \"\u001b[0m \u001b[0;34m+\u001b[0m \u001b[0mstr\u001b[0m\u001b[0;34m(\u001b[0m\u001b[0merrorcode\u001b[0m\u001b[0;34m)\u001b[0m \u001b[0;34m+\u001b[0m\u001b[0;34m\")\"\u001b[0m\u001b[0;34m\u001b[0m\u001b[0;34m\u001b[0m\u001b[0m\n\u001b[0;32m-> 1180\u001b[0;31m         \u001b[0;32mraise\u001b[0m \u001b[0mRuntimeError\u001b[0m\u001b[0;34m(\u001b[0m\u001b[0merrormessage\u001b[0m\u001b[0;34m)\u001b[0m\u001b[0;34m\u001b[0m\u001b[0;34m\u001b[0m\u001b[0m\n\u001b[0m\u001b[1;32m   1181\u001b[0m \u001b[0;34m\u001b[0m\u001b[0m\n\u001b[1;32m   1182\u001b[0m \u001b[0;32mclass\u001b[0m \u001b[0m_StrictURLopener\u001b[0m\u001b[0;34m(\u001b[0m\u001b[0mrequest\u001b[0m\u001b[0;34m.\u001b[0m\u001b[0mFancyURLopener\u001b[0m\u001b[0;34m)\u001b[0m\u001b[0;34m:\u001b[0m\u001b[0;34m\u001b[0m\u001b[0;34m\u001b[0m\u001b[0m\n",
      "\u001b[0;31mRuntimeError\u001b[0m: Unable to complete operation.\nAuthentication token required. (status code 499).\n(Error Code: 400)"
     ]
    }
   ],
   "source": [
    "#unable to call compute_histograms on the combined layers (all three layers combined)\n",
    "tech1.compute_histograms(geometry=study_area_geom)\n",
    "tech2.compute_histograms(geometry=study_area_geom)"
   ]
  },
  {
   "cell_type": "code",
   "execution_count": 22,
   "metadata": {
    "scrolled": false
   },
   "outputs": [
    {
     "data": {
      "application/vnd.jupyter.widget-view+json": {
       "model_id": "ed260d1d4c0848079c4677cb8acb3a35",
       "version_major": 2,
       "version_minor": 0
      },
      "text/plain": [
       "MapView(jupyter_target='notebook', layout=Layout(height='400px', width='100%'), legend=True, ready=True)"
      ]
     },
     "metadata": {},
     "output_type": "display_data"
    },
    {
     "data": {
      "text/html": [
       "<div class=\"map-static-img-preview-449aad59-f076-4e70-8e1e-a86cce4fd7f9\"><img src=\"\"></img></div>"
      ],
      "text/plain": [
       "<IPython.core.display.HTML object>"
      ]
     },
     "metadata": {},
     "output_type": "display_data"
    }
   ],
   "source": [
    "#Unable to show the combined layers on the map if not using slope/elevation layer in the first of computation\n",
    "map1"
   ]
  },
  {
   "cell_type": "code",
   "execution_count": 23,
   "metadata": {},
   "outputs": [
    {
     "data": {
      "application/vnd.jupyter.widget-view+json": {
       "model_id": "a250a19a4ffc45508088a4b2091f34c9",
       "version_major": 2,
       "version_minor": 0
      },
      "text/plain": [
       "MapView(jupyter_target='notebook', layout=Layout(height='400px', width='100%'), legend=True, ready=True)"
      ]
     },
     "metadata": {},
     "output_type": "display_data"
    },
    {
     "data": {
      "text/html": [
       "<div class=\"map-static-img-preview-83c0954d-9b5e-4d45-82db-14f582c79a31\"><img src=\"\"></img></div>"
      ],
      "text/plain": [
       "<IPython.core.display.HTML object>"
      ]
     },
     "metadata": {},
     "output_type": "display_data"
    }
   ],
   "source": [
    "map2"
   ]
  },
  {
   "cell_type": "code",
   "execution_count": null,
   "metadata": {},
   "outputs": [],
   "source": [
    "# Please let us know how much time you spent on this project, in hours: \n",
    "# (we will only examine distributions and won't look at individual responses)\n",
    "assignment_timespent = 6\n",
    "extracredit_timespent = 1"
   ]
  },
  {
   "cell_type": "code",
   "execution_count": null,
   "metadata": {},
   "outputs": [],
   "source": []
  }
 ],
 "metadata": {
  "kernelspec": {
   "display_name": "Python 3",
   "language": "python",
   "name": "python3"
  },
  "language_info": {
   "codemirror_mode": {
    "name": "ipython",
    "version": 3
   },
   "file_extension": ".py",
   "mimetype": "text/x-python",
   "name": "python",
   "nbconvert_exporter": "python",
   "pygments_lexer": "ipython3",
   "version": "3.6.8"
  }
 },
 "nbformat": 4,
 "nbformat_minor": 2
}
