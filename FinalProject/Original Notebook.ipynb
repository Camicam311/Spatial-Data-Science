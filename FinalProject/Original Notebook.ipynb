{
 "cells": [
  {
   "cell_type": "markdown",
   "metadata": {},
   "source": [
    "# Project Title  \n",
    "   #### Analysis of environmental inequality in California\n",
    "    - the social factors associated with worse air pollution in Southern California\n",
    "**Team members:**  \n",
    "    - Yu-Chun Chen A13356506  \n",
    "    - Yanyu Tao A13961185\n"
   ]
  },
  {
   "cell_type": "markdown",
   "metadata": {},
   "source": [
    "# Questions Proposed  \n",
    "  \n",
    "   We are interested in the research about how air pollution, which refers to Greenhouse Gases such as SO2, O3 NO2 and CO, in California is associated with local geography and the social factors. We have decided to modify our study area from the whole United States, as in Project Proposal, to California specifically. This is because we decided to make each county a unit of study, instead of a state as a unit, so that the data can represent each unit more precisely.  \n",
    "     \n",
    "   Specifically, we would like to explore how each county’s business or factory types, average income, incidence rate of respiratory diseases, are related to the seriousness of air pollution in its range. We expect that areas with more serious air pollution are those with more factories associated to fossil fuels, mining, and manufacturing will produce more air pollutants, lower average income, higher population, higher incidence rate of respiratory or lung diseases. The issue is at stake as air pollution can damage not only human health, but also animals’ and plants’. As most air pollutants are created by human activities, such as burning fossil fuels and emissions of factories, we would like to stress the danger of air pollution to our community so that we can promote a healthier place to live.  \n",
    "     \n",
    "   We can apply our analysis result to reduce the risk of air pollution, thus to promote health. If we learn that a specific type of factories has a strong association with air pollution, this suggests that it is possibly a good idea to limit the number of this type of factories in each county. We can also distribute resources for hospitalization and emergency departments to each area using our analysis. We will focus our expected audience on local government and state governments, because they have the authority to regulate businesses regarding their emissions. With our analysis, governments will understand what types of areas produce the most air pollution, and are able to deal with pollution in those areas accordingly."
   ]
  },
  {
   "cell_type": "markdown",
   "metadata": {},
   "source": [
    "# Background and literatures  \n",
    "  \n",
    "Heavy industry emits pollutants that are toxic and hazardous and affect human health. In the article “The effect of industry-related air pollution on lung function and respiratory symptoms in school children,” authors specify that PM2.5 and NOX are the air pollutants from industries most associated with respiratory diseases.  \n",
    "  \n",
    "Also, According to the research “Relation between income, air pollution and mortality: a cohort study” done by Finkelstein, Jerrett, DeLuca, Finkelstein, Verma, Chapman and Sears with their investigation on data for cities in Canada and the United States, the authors conclude that pollutant level is higher in areas that have lower income. Moreover, areas with higher pollutant level, such as sulfur dioxide, have higher mortality risk. As the idea that outdoor pollution mainly caused by traffic and power generation will exacerbate pre-existing asthma has been proved decades ago, in the research “Outdoor air pollution and asthma,” authors Michael Guarnieri and   John R. Balmes develop further on the idea and claim that outdoor pollution will also cause to new-onset asthma. Specifically, short-term exposure to ozone, nitrogen dioxide, sulphur dioxide, PM2·5, and TRAP will exacerbate pre-existing asthma while long-term exposure to those air pollutants will eventually contribute to new-onset asthma for both children and adults. As the strong association between air pollution and increasing morbidity and mortality being confirmed by more and more authoritative institutions and organizations, authors of the article “Fine-Particulate Air Pollution and Life Expectancy in the United Sates published by The New England Journal of Medicine”, claim that sustaining reductions of pollution exposure will lead to a better life expectancy. The data on life expectancy, socioeconomic status, and demographic characteristics for U.S. counties during late 1970s to early 1980s, and late 1990s to early 2000s were developed. Multiple regression models were built to demonstrate the association between pollution reductions and shifts in life expectancy. The result suggests that the increase of overall life expectancy is highly sensitive to the reductions of air pollution alone and not as sensitive to other features.   \n",
    "  \n",
    "We expect to confirm above research results since we hypothesize that serious air pollution will have a series of effects on commuter health, income, and other social factors, which eventually leads to lower life expectancy.   \n",
    "  \n",
    "__*References:*__  \n",
    "  \n",
    "*Bergstra, A. D., Brunekreef, B., & Burdorf, A. (2018). The effect of industry-related air pollution on lung function and respiratory symptoms in school children. Environmental Health, 17(1). doi:10.1186/s12940-018-0373-2\n",
    "https://ehjournal.biomedcentral.com/articles/10.1186/s12940-018-0373-2*  \n",
    "  \n",
    "*Finkelstein, M. M., Jerrett, M., DeLuca, P., Finkelstein, N., Verma, D. K., Chapman, K., & Sears, M. R. (2003, September 02). Relation between income, air pollution and mortality: A cohort study. Retrieved May 12, 2019, from https://www.ncbi.nlm.nih.gov/pmc/articles/PMC183288/*  \n",
    "  \n",
    "*Guarnieri, M., & Balmes, J. R. (2014). Outdoor air pollution and asthma. Lancet (London, England), 383(9928), 1581–1592. doi:10.1016/S0140-6736(14)60617-6*  \n",
    "  \n",
    "*Pope, C. A., Ezzati, M., & Dockery, D. W. (2009). Fine-Particulate Air Pollution and Life Expectancy in the United States. New England Journal of Medicine, 360(4), 376-386. doi:10.1056/nejmsa0805646. Retrieved May 12, 2019, from https://www.nejm.org/doi/full/10.1056/NEJMsa0805646*  \n"
   ]
  },
  {
   "cell_type": "markdown",
   "metadata": {},
   "source": [
    "# Python Libraries and Arcgis Modules"
   ]
  },
  {
   "cell_type": "markdown",
   "metadata": {},
   "source": [
    "We have used pandas libraries for data cleaning and preprocessing, and geopandas in order to fill the crs of data table so we can store the data as Spatially Enabled DataFrame in .shp form, and upload the shp file to ArcGis to create layer."
   ]
  },
  {
   "cell_type": "code",
   "execution_count": 1,
   "metadata": {},
   "outputs": [],
   "source": [
    "%matplotlib inline \n",
    "import geopandas as gpd\n",
    "import pandas as pd\n",
    "import numpy as np\n",
    "import matplotlib.pyplot as plt"
   ]
  },
  {
   "cell_type": "markdown",
   "metadata": {},
   "source": [
    "We have imported the following ArcGIS modules and functions in order to perform spatial operations, including mapping, creating layers, buffering, and other spatial analysis, etc."
   ]
  },
  {
   "cell_type": "code",
   "execution_count": 2,
   "metadata": {},
   "outputs": [],
   "source": [
    "import arcgis\n",
    "from arcgis.gis import GIS\n",
    "from arcgis import geometry\n",
    "from arcgis.features import GeoAccessor, GeoSeriesAccessor\n",
    "from arcgis.geocoding import geocode\n",
    "from arcgis.geometry import lengths\n",
    "from arcgis.features.use_proximity import create_buffers\n",
    "from arcgis.features.find_locations import find_existing_locations\n",
    "from arcgis.features import summarize_data\n",
    "from arcgis.mapping import WebMap"
   ]
  },
  {
   "cell_type": "markdown",
   "metadata": {},
   "source": [
    "We also imported sklearn module in order to explore the association among average income, GHG, TRI emissions, common industry, asthma incidence rate, and copd incidence rate and AQI. Here, we will use random forest classifier."
   ]
  },
  {
   "cell_type": "code",
   "execution_count": 3,
   "metadata": {},
   "outputs": [],
   "source": [
    "from sklearn.ensemble import RandomForestClassifier, RandomForestRegressor\n",
    "from sklearn.model_selection import train_test_split\n",
    "from sklearn.pipeline import Pipeline\n",
    "from sklearn.preprocessing import OneHotEncoder\n",
    "from sklearn.impute import SimpleImputer\n",
    "from sklearn.compose import ColumnTransformer\n",
    "from sklearn.linear_model import LinearRegression"
   ]
  },
  {
   "cell_type": "markdown",
   "metadata": {},
   "source": [
    "We suppress warnings regarding future Pandas functions change to make the notebook cleaner."
   ]
  },
  {
   "cell_type": "code",
   "execution_count": 4,
   "metadata": {},
   "outputs": [],
   "source": [
    "import warnings\n",
    "warnings.filterwarnings('ignore')"
   ]
  },
  {
   "cell_type": "markdown",
   "metadata": {},
   "source": [
    "Login to ArcGIS account to have access to above modules and necessary layers."
   ]
  },
  {
   "cell_type": "code",
   "execution_count": 5,
   "metadata": {},
   "outputs": [
    {
     "name": "stdout",
     "output_type": "stream",
     "text": [
      "Enter password: ········\n"
     ]
    }
   ],
   "source": [
    "gis = GIS(username=\"yuc330_UCSDOnline9\")  # this will ask for password. You can also include your password in this string"
   ]
  },
  {
   "cell_type": "markdown",
   "metadata": {},
   "source": [
    "# Data Sources  \n",
    "  \n",
    "### DataFrame Data  \n",
    "**US Household Income Statistics:**   \n",
    "\tThe dataset includes information of mean/median household income, number of households, geographic location information such as state, county and city for each city recorded.  \n",
    "Accessed from https://www.kaggle.com/goldenoakresearch/us-household-income-stats-geo-locations.  \n",
    "  \n",
    "**US Facility-Level Air Pollution (2010-2014):**  \n",
    "\tThe dataset includes information of facilities, their geographic information, industry type, NAICS code, and emissions.  \n",
    "Accessed from https://www.kaggle.com/jaseibert/us-facilitylevel-air-pollution-20102014.  \n",
    "  \n",
    "**U.S. Pollution Data:**  \n",
    "\tThe dataset includes information of air pollution in each city in the United States, specifically CO and SO2 emission level.  \n",
    "Accessed from https://www.kaggle.com/sogun3/uspollution  \n",
    "  \n",
    "**NAICS and SOC Dictionaries:**  \n",
    "\tThis dataset contains historical mapping of NAICS industry codes and SOC occupational codes, which we will use to identify the most common industry type in each county. The North American Industry Classification System (NAICS) is the standard used by Federal statistical agencies in classifying business establishments for the purpose of collecting, analyzing, and publishing statistical data related to the U.S. business economy.  \n",
    "Accessed from https://www.kaggle.com/rakeshchintha/naics-soc/version/3  \n",
    "  \n",
    "**Current Asthma:**  \n",
    "\tThis dataset includes information of current asthma cases in 500 cities in California.  \n",
    "Accessed from https://healthyplacesindex.org/data-reports/  \n",
    "  \n",
    "**Chronic Obstructive Pulmonary Disease:**  \n",
    "\tThis dataset includes information of current COPD cases in 500 cities in California.  \n",
    "Accessed from https://healthyplacesindex.org/data-reports/ \n",
    "  \n",
    "### Layer Data (from ArcGIS)  \n",
    "**USA Counties (Generalized):**  \n",
    "ID: 7566e0221e5646f99ea249a197116605  \n",
    "Feature Layer by Esri    \n",
    "USA Counties (Generalized) provides the county boundaries of the United States in the 50 states and the District of Columbia.      \n",
    "  \n"
   ]
  },
  {
   "cell_type": "markdown",
   "metadata": {},
   "source": [
    "**Reflection**  \n",
    "  \n",
    "Our data sources have evolved from the phase of proposal to add the NAICS dictionary for us to decode the NAICS code, reported cases of Asthma and COPD to calculate incidence rate of them, and USA County layer to create a polygon layer for California counties.  \n",
    "  \n",
    "If possible, we would like to get data of the air quality for each county, as this will make our analysis more practical. Nevertheless, as now we would use the US Pollution Data and the buffer operation to perform our analysis. Also, our analysis can be more precise with data of individual long term and short term exposure air pollutant. However, this is fairly unpractical and is only possible if surveys are conducted."
   ]
  },
  {
   "cell_type": "code",
   "execution_count": 6,
   "metadata": {},
   "outputs": [],
   "source": [
    "#US household income statistics\n",
    "income_df = pd.read_csv('kaggle_income.csv', encoding='latin-1')"
   ]
  },
  {
   "cell_type": "code",
   "execution_count": 7,
   "metadata": {},
   "outputs": [],
   "source": [
    "#USA Counties (Generalized)\n",
    "usa_county = gis.content.get('7566e0221e5646f99ea249a197116605')"
   ]
  },
  {
   "cell_type": "code",
   "execution_count": 15,
   "metadata": {},
   "outputs": [],
   "source": [
    "#US pollution data (monitoring sites)\n",
    "pol_df = pd.read_csv('pollution_us_2000_2016.csv', encoding='latin-1')"
   ]
  },
  {
   "cell_type": "code",
   "execution_count": 24,
   "metadata": {},
   "outputs": [],
   "source": [
    "#US facility level air pollution\n",
    "us_facility_ap = pd.read_csv('pollution.csv')"
   ]
  },
  {
   "cell_type": "code",
   "execution_count": 25,
   "metadata": {},
   "outputs": [],
   "source": [
    "#NAICS Dictionaries\n",
    "naics_code = pd.read_csv('naics_codes.csv', encoding = 'latin-1')"
   ]
  },
  {
   "cell_type": "code",
   "execution_count": 30,
   "metadata": {},
   "outputs": [],
   "source": [
    "#Current Asthma and Chronic Obstructive Pulmonary Disease\n",
    "casthma = pd.read_csv('HPI2_500Cities_CASTHMA.csv', encoding='latin-1')\n",
    "copd = pd.read_csv('HPI2_500Cities_COPD.csv', encoding='latin-1')"
   ]
  },
  {
   "cell_type": "markdown",
   "metadata": {},
   "source": [
    "# Data Cleaning  \n",
    "For each data used, we have to extract only information we need in order to avoid unnecessary operations and memories used. For all data that has extent of the whole US, we only extract information of California. We also only extract information that is the most recent. We used metadata to get a general sense on how we would perform our data cleaning. However, we also need to introspect the data itself to decide what exact processes are needed.  \n",
    "  \n",
    "We already expected to perform operations needed to extract most recent Californian information, replace missing or nan values, and also renaming columns. However, operations that required us to save and upload dataframe to ArcGIS because of the lack of matching epsg number is out of our expectation."
   ]
  },
  {
   "cell_type": "markdown",
   "metadata": {},
   "source": [
    "### Income and County Layer"
   ]
  },
  {
   "cell_type": "code",
   "execution_count": 11,
   "metadata": {},
   "outputs": [],
   "source": [
    "#extract information of California only\n",
    "income_df = income_df[income_df['State_ab'] == 'CA']"
   ]
  },
  {
   "cell_type": "code",
   "execution_count": 12,
   "metadata": {},
   "outputs": [],
   "source": [
    "#compute average income for each county\n",
    "county_income = income_df.groupby('County')['Mean'].mean().to_frame()"
   ]
  },
  {
   "cell_type": "code",
   "execution_count": 8,
   "metadata": {},
   "outputs": [],
   "source": [
    "#we extract only county information for California from usa county layer\n",
    "ca_county = usa_county.layers[0].query(\"STATE_NAME = 'California'\", return_geometry=True).sdf"
   ]
  },
  {
   "cell_type": "code",
   "execution_count": 9,
   "metadata": {},
   "outputs": [],
   "source": [
    "ca_county['NAME'] = ca_county['NAME'].apply(lambda x: x + ' County')"
   ]
  },
  {
   "cell_type": "code",
   "execution_count": 13,
   "metadata": {},
   "outputs": [],
   "source": [
    "#add income information to the ca county df\n",
    "ca_county['income'] = ca_county['NAME'].apply(lambda x: county_income.loc[x].values[0] if x in county_income.index else 0)"
   ]
  },
  {
   "cell_type": "code",
   "execution_count": 14,
   "metadata": {},
   "outputs": [],
   "source": [
    "#replace nan values\n",
    "ca_county = ca_county.replace(np.nan, '', regex = True)"
   ]
  },
  {
   "cell_type": "code",
   "execution_count": 12,
   "metadata": {},
   "outputs": [
    {
     "data": {
      "text/plain": [
       "'./ca_county.shp'"
      ]
     },
     "execution_count": 12,
     "metadata": {},
     "output_type": "execute_result"
    }
   ],
   "source": [
    "#cells below are process used to store and get our ca county layer through uploading to ArcGIS\n",
    "ca_county.spatial.to_featureclass('./ca_county')"
   ]
  },
  {
   "cell_type": "code",
   "execution_count": 13,
   "metadata": {},
   "outputs": [],
   "source": [
    "#save ca counties dataset as a shapefile to upload to ArcGIS layer\n",
    "gdf = gpd.read_file('ca_county.shp')"
   ]
  },
  {
   "cell_type": "code",
   "execution_count": 14,
   "metadata": {},
   "outputs": [],
   "source": [
    "gdf = gpd.GeoDataFrame(gdf, crs = {'init': 'espg:3857'}, geometry = 'geometry')"
   ]
  },
  {
   "cell_type": "code",
   "execution_count": 15,
   "metadata": {},
   "outputs": [],
   "source": [
    "gdf.to_file('ca_county_1.shp')"
   ]
  },
  {
   "cell_type": "code",
   "execution_count": 34,
   "metadata": {},
   "outputs": [],
   "source": [
    "#get the ca county layer (with income info) we have uploaded to ArcGIS\n",
    "ca_county_layer = gis.content.get(\"b1c408a86c834037adf3f2660f6a1920\")"
   ]
  },
  {
   "cell_type": "markdown",
   "metadata": {},
   "source": [
    "### Air Quality Data of Monitoring Sites"
   ]
  },
  {
   "cell_type": "code",
   "execution_count": 17,
   "metadata": {},
   "outputs": [],
   "source": [
    "#extract only information of California and in year 2016\n",
    "pol_df = pol_df[(pol_df['State'] == 'California') & (pol_df['Date Local'].str.contains('2016'))]"
   ]
  },
  {
   "cell_type": "code",
   "execution_count": 18,
   "metadata": {},
   "outputs": [],
   "source": [
    "#calculate average AQI of each GHG for 2016 for each monitoring site\n",
    "pol_city = pol_df.groupby(['City'])['O3 AQI', 'NO2 AQI', 'SO2 AQI', 'CO AQI'].mean().reset_index()"
   ]
  },
  {
   "cell_type": "code",
   "execution_count": 19,
   "metadata": {},
   "outputs": [],
   "source": [
    "#add income information into this dataframe\n",
    "pol_pos = pol_city.merge(income_df, how = 'left', left_on= 'City', right_on = 'City').drop_duplicates(['City'])"
   ]
  },
  {
   "cell_type": "code",
   "execution_count": 20,
   "metadata": {},
   "outputs": [],
   "source": [
    "#fill the missing lat long information for some monitoring sites\n",
    "pol_pos.loc[pol_pos.City == 'Arden-Arcade', 'Lat'] = 38.6008\n",
    "pol_pos.loc[pol_pos.City == 'Arden-Arcade', 'Lon'] = -121.3770\n",
    "pol_pos.loc[pol_pos.City == 'Bethel Island', 'Lat'] = 38.0149\n",
    "pol_pos.loc[pol_pos.City == 'Bethel Island', 'Lon'] = -121.6405\n",
    "pol_pos.loc[pol_pos.City == 'Capitan', 'Lat'] = 34.4633\n",
    "pol_pos.loc[pol_pos.City == 'Capitan', 'Lon'] = -120.0432\n",
    "pol_pos.loc[pol_pos.City == 'Vandenberg Air Force Base', 'Lat'] = 34.7420\n",
    "pol_pos.loc[pol_pos.City == 'Vandenberg Air Force Base', 'Lon'] = -120.5724"
   ]
  },
  {
   "cell_type": "markdown",
   "metadata": {},
   "source": [
    "### Facilities and facility level emissions"
   ]
  },
  {
   "cell_type": "code",
   "execution_count": 26,
   "metadata": {},
   "outputs": [],
   "source": [
    "#extract only information of california and create SEDF from this dataframe\n",
    "ca_facility_ap = us_facility_ap[us_facility_ap['State'] == \"CA\"]\n",
    "ca_fac_sdf = pd.DataFrame.spatial.from_xy(ca_facility_ap,x_column = 'Longitude', y_column='Latitude')"
   ]
  },
  {
   "cell_type": "code",
   "execution_count": 27,
   "metadata": {},
   "outputs": [],
   "source": [
    "#drop unnecessary columns and rename columns that have names longer than 10 char\n",
    "ca_fac_sdf = ca_fac_sdf.drop(['SecondPrimaryNAICS', 'ThirdPrimaryNAICS', \n",
    "                              'TRI_Air_Emissions_13_in_lbs', 'TRI_Air_Emissions_12_in_lbs',\n",
    "       'TRI_Air_Emissions_11_in_lbs', 'TRI_Air_Emissions_10_in_lbs', 'GHG_Direct_Emissions_13_in_metric_tons',\n",
    "       'GHG_Direct_Emissions_12_in_metric_tons',\n",
    "       'GHG_Direct_Emissions_11_in_metric_tons',\n",
    "       'GHG_Direct_Emissions_10_in_metric_tons',\n",
    "        'Second_GHG_ID', 'Third_GHG_ID', 'Fourth_GHG_ID', 'Fifth_GHG_ID',\n",
    "       'Sixth_GHG_ID', 'Second_TRI_ID', 'Third_TRI_ID',\n",
    "       'Fourth_TRI_ID', 'Fifth_TRI_ID', 'Second_FRS_ID',\n",
    "       'Third_FRS_ID', 'Fourth_FRS_ID'], axis = 1)\n",
    "ca_fac_sdf = ca_fac_sdf.rename(columns={\"TRI_Air_Emissions_14_in_lbs\": \"TRI_Emi\", \"GHG_Direct_Emissions_14_in_metric_tons\": \"GHG_Emi\"})"
   ]
  },
  {
   "cell_type": "code",
   "execution_count": 28,
   "metadata": {},
   "outputs": [],
   "source": [
    "#replace and fill missing data\n",
    "ca_fac_sdf = ca_fac_sdf.replace(np.nan, '', regex=True)\n",
    "ca_fac_sdf['TRI_Emi'] = ca_fac_sdf.TRI_Emi.replace('Not reported', '0')\n",
    "ca_fac_sdf['GHG_Emi'] = ca_fac_sdf.GHG_Emi.replace('Not reported', '0')\n",
    "ca_fac_sdf['TRI_Emi'] = ca_fac_sdf.TRI_Emi.astype('float')\n",
    "ca_fac_sdf['GHG_Emi'] = ca_fac_sdf.GHG_Emi.astype('float')"
   ]
  },
  {
   "cell_type": "markdown",
   "metadata": {},
   "source": [
    "###  Asthma & COPD"
   ]
  },
  {
   "cell_type": "code",
   "execution_count": 53,
   "metadata": {},
   "outputs": [],
   "source": [
    "#calculate average incidence rate in each county\n",
    "asthma_rate = casthma.dropna(subset = ['CASTHMA_pct']).groupby('County_Name')['CASTHMA_pct'].mean()\n",
    "copd_rate = copd.dropna(subset = ['COPD_pct']).groupby('County_Name')['COPD_pct'].mean()\n",
    "asthma_rate.index = asthma_rate.index.str.upper()\n",
    "copd_rate.index = copd_rate.index.str.upper()"
   ]
  },
  {
   "cell_type": "markdown",
   "metadata": {},
   "source": [
    "# Descriptive Statistics"
   ]
  },
  {
   "cell_type": "markdown",
   "metadata": {},
   "source": [
    "We are not dealing with random point patterns here, as nearly all of our data exhibit some spatial correlation. For example, the counties along the coastal line have higher average income generally. However, the question regarding spatial mean and standard distance is not relevant to our research theme and data, as we use counties as unit, and the area of counties is not a relevent measure in our analysis."
   ]
  },
  {
   "cell_type": "markdown",
   "metadata": {},
   "source": [
    "### Average Income  \n",
    "From the map generated below, we can see that counties with more income are concentrated along the coastal line. The mean income of each county is \\\\$47610 while the standard deviation is \\\\$36401, which is a relatively large variation."
   ]
  },
  {
   "cell_type": "code",
   "execution_count": 32,
   "metadata": {},
   "outputs": [
    {
     "data": {
      "text/plain": [
       "count        58.000000\n",
       "mean      47610.483230\n",
       "std       36401.181601\n",
       "min           0.000000\n",
       "25%           0.000000\n",
       "50%       52251.137500\n",
       "75%       77869.848545\n",
       "max      123775.000000\n",
       "Name: income, dtype: float64"
      ]
     },
     "execution_count": 32,
     "metadata": {},
     "output_type": "execute_result"
    }
   ],
   "source": [
    "#summary of income data\n",
    "ca_county['income'].describe().T"
   ]
  },
  {
   "cell_type": "code",
   "execution_count": 35,
   "metadata": {
    "scrolled": false
   },
   "outputs": [
    {
     "data": {
      "application/vnd.jupyter.widget-view+json": {
       "model_id": "0c8bd429a6d24bdf9796e96b13a6a527",
       "version_major": 2,
       "version_minor": 0
      },
      "text/plain": [
       "MapView(layout=Layout(height='400px', width='100%'))"
      ]
     },
     "metadata": {},
     "output_type": "display_data"
    },
    {
     "data": {
      "text/html": [
       "<div class=\"map-static-img-preview-77294538-2b8b-4ce7-8bed-37f51294ef09\"><img src=\"\"></img></div>"
      ],
      "text/plain": [
       "<IPython.core.display.HTML object>"
      ]
     },
     "metadata": {},
     "output_type": "display_data"
    }
   ],
   "source": [
    "#show California Map according to each county's income\n",
    "map_county = gis.map('California')\n",
    "location = geocode('California')[0]\n",
    "map_county.extent = location['extent']\n",
    "#ca_county.spatial.plot(map_widget = map_county, renderer_type = 'c', col = 'income', class_count = 10, cmap='autumn_r')\n",
    "map_county.add_layer(ca_county_layer, {'renderer':'ClassedColorRenderer', 'field_name':'income', 'opacity':0.5, 'cmap':'YlGrBl', 'class_count':10})\n",
    "map_county"
   ]
  },
  {
   "cell_type": "markdown",
   "metadata": {},
   "source": [
    "### Air Quality"
   ]
  },
  {
   "cell_type": "code",
   "execution_count": 36,
   "metadata": {},
   "outputs": [
    {
     "data": {
      "text/html": [
       "<div>\n",
       "<style scoped>\n",
       "    .dataframe tbody tr th:only-of-type {\n",
       "        vertical-align: middle;\n",
       "    }\n",
       "\n",
       "    .dataframe tbody tr th {\n",
       "        vertical-align: top;\n",
       "    }\n",
       "\n",
       "    .dataframe thead th {\n",
       "        text-align: right;\n",
       "    }\n",
       "</style>\n",
       "<table border=\"1\" class=\"dataframe\">\n",
       "  <thead>\n",
       "    <tr style=\"text-align: right;\">\n",
       "      <th></th>\n",
       "      <th>count</th>\n",
       "      <th>mean</th>\n",
       "      <th>std</th>\n",
       "      <th>min</th>\n",
       "      <th>25%</th>\n",
       "      <th>50%</th>\n",
       "      <th>75%</th>\n",
       "      <th>max</th>\n",
       "    </tr>\n",
       "  </thead>\n",
       "  <tbody>\n",
       "    <tr>\n",
       "      <th>O3 AQI</th>\n",
       "      <td>14.0</td>\n",
       "      <td>32.705623</td>\n",
       "      <td>5.660707</td>\n",
       "      <td>24.464286</td>\n",
       "      <td>28.432602</td>\n",
       "      <td>31.381971</td>\n",
       "      <td>37.051149</td>\n",
       "      <td>43.021978</td>\n",
       "    </tr>\n",
       "    <tr>\n",
       "      <th>NO2 AQI</th>\n",
       "      <td>14.0</td>\n",
       "      <td>17.034484</td>\n",
       "      <td>9.746581</td>\n",
       "      <td>1.522222</td>\n",
       "      <td>10.252066</td>\n",
       "      <td>18.337385</td>\n",
       "      <td>24.454228</td>\n",
       "      <td>33.659341</td>\n",
       "    </tr>\n",
       "    <tr>\n",
       "      <th>SO2 AQI</th>\n",
       "      <td>14.0</td>\n",
       "      <td>1.323060</td>\n",
       "      <td>1.040100</td>\n",
       "      <td>0.000000</td>\n",
       "      <td>0.596154</td>\n",
       "      <td>0.929752</td>\n",
       "      <td>2.093097</td>\n",
       "      <td>3.750000</td>\n",
       "    </tr>\n",
       "    <tr>\n",
       "      <th>CO AQI</th>\n",
       "      <td>14.0</td>\n",
       "      <td>5.850242</td>\n",
       "      <td>2.665205</td>\n",
       "      <td>1.533333</td>\n",
       "      <td>4.378326</td>\n",
       "      <td>6.161674</td>\n",
       "      <td>7.352199</td>\n",
       "      <td>10.802198</td>\n",
       "    </tr>\n",
       "  </tbody>\n",
       "</table>\n",
       "</div>"
      ],
      "text/plain": [
       "         count       mean       std        min        25%        50%  \\\n",
       "O3 AQI    14.0  32.705623  5.660707  24.464286  28.432602  31.381971   \n",
       "NO2 AQI   14.0  17.034484  9.746581   1.522222  10.252066  18.337385   \n",
       "SO2 AQI   14.0   1.323060  1.040100   0.000000   0.596154   0.929752   \n",
       "CO AQI    14.0   5.850242  2.665205   1.533333   4.378326   6.161674   \n",
       "\n",
       "               75%        max  \n",
       "O3 AQI   37.051149  43.021978  \n",
       "NO2 AQI  24.454228  33.659341  \n",
       "SO2 AQI   2.093097   3.750000  \n",
       "CO AQI    7.352199  10.802198  "
      ]
     },
     "execution_count": 36,
     "metadata": {},
     "output_type": "execute_result"
    }
   ],
   "source": [
    "#summary of air quality index data\n",
    "pol_pos[['O3 AQI', 'NO2 AQI', 'SO2 AQI', 'CO AQI']].describe().T"
   ]
  },
  {
   "cell_type": "code",
   "execution_count": 37,
   "metadata": {},
   "outputs": [],
   "source": [
    "#define function to plot histogram\n",
    "def draw_histograms(df, variables, n_rows, n_cols):\n",
    "    fig=plt.figure()\n",
    "    for i, var_name in enumerate(variables):\n",
    "        ax=fig.add_subplot(n_rows,n_cols,i+1)\n",
    "        df[var_name].hist(bins=10,ax=ax)\n",
    "        ax.set_title(var_name+\" Distribution\")\n",
    "    fig.tight_layout()  # Improves appearance a bit.\n",
    "    plt.show()"
   ]
  },
  {
   "cell_type": "code",
   "execution_count": 38,
   "metadata": {},
   "outputs": [
    {
     "data": {
      "image/png": "[encoded data removed]",
      "text/plain": [
       "<Figure size 432x288 with 4 Axes>"
      ]
     },
     "metadata": {
      "needs_background": "light"
     },
     "output_type": "display_data"
    }
   ],
   "source": [
    "draw_histograms(pol_pos, ['O3 AQI', 'NO2 AQI', 'SO2 AQI', 'CO AQI'], 2, 2)"
   ]
  },
  {
   "cell_type": "markdown",
   "metadata": {},
   "source": [
    "### Facilities and Facility Emissions"
   ]
  },
  {
   "cell_type": "code",
   "execution_count": 39,
   "metadata": {},
   "outputs": [
    {
     "data": {
      "text/html": [
       "<div>\n",
       "<style scoped>\n",
       "    .dataframe tbody tr th:only-of-type {\n",
       "        vertical-align: middle;\n",
       "    }\n",
       "\n",
       "    .dataframe tbody tr th {\n",
       "        vertical-align: top;\n",
       "    }\n",
       "\n",
       "    .dataframe thead th {\n",
       "        text-align: right;\n",
       "    }\n",
       "</style>\n",
       "<table border=\"1\" class=\"dataframe\">\n",
       "  <thead>\n",
       "    <tr style=\"text-align: right;\">\n",
       "      <th></th>\n",
       "      <th>count</th>\n",
       "      <th>mean</th>\n",
       "      <th>std</th>\n",
       "      <th>min</th>\n",
       "      <th>25%</th>\n",
       "      <th>50%</th>\n",
       "      <th>75%</th>\n",
       "      <th>max</th>\n",
       "    </tr>\n",
       "  </thead>\n",
       "  <tbody>\n",
       "    <tr>\n",
       "      <th>TRI_Emi</th>\n",
       "      <td>1642.0</td>\n",
       "      <td>5136.468609</td>\n",
       "      <td>35461.504522</td>\n",
       "      <td>0.0</td>\n",
       "      <td>0.0</td>\n",
       "      <td>0.0</td>\n",
       "      <td>204.75</td>\n",
       "      <td>744843.0</td>\n",
       "    </tr>\n",
       "    <tr>\n",
       "      <th>GHG_Emi</th>\n",
       "      <td>1642.0</td>\n",
       "      <td>70525.630329</td>\n",
       "      <td>326987.513375</td>\n",
       "      <td>0.0</td>\n",
       "      <td>0.0</td>\n",
       "      <td>0.0</td>\n",
       "      <td>12367.25</td>\n",
       "      <td>6294749.0</td>\n",
       "    </tr>\n",
       "  </tbody>\n",
       "</table>\n",
       "</div>"
      ],
      "text/plain": [
       "          count          mean            std  min  25%  50%       75%  \\\n",
       "TRI_Emi  1642.0   5136.468609   35461.504522  0.0  0.0  0.0    204.75   \n",
       "GHG_Emi  1642.0  70525.630329  326987.513375  0.0  0.0  0.0  12367.25   \n",
       "\n",
       "               max  \n",
       "TRI_Emi   744843.0  \n",
       "GHG_Emi  6294749.0  "
      ]
     },
     "execution_count": 39,
     "metadata": {},
     "output_type": "execute_result"
    }
   ],
   "source": [
    "#summary of data\n",
    "ca_fac_sdf[['TRI_Emi', 'GHG_Emi']].describe().T"
   ]
  },
  {
   "cell_type": "code",
   "execution_count": 40,
   "metadata": {},
   "outputs": [
    {
     "data": {
      "image/png": "[encoded data removed]",
      "text/plain": [
       "<Figure size 432x288 with 2 Axes>"
      ]
     },
     "metadata": {
      "needs_background": "light"
     },
     "output_type": "display_data"
    }
   ],
   "source": [
    "#histograms of TRI and GHG emission of facilities\n",
    "draw_histograms(ca_fac_sdf, ['TRI_Emi', 'GHG_Emi'], 2, 1)"
   ]
  },
  {
   "cell_type": "code",
   "execution_count": 41,
   "metadata": {},
   "outputs": [
    {
     "data": {
      "text/plain": [
       "Fossil Fuel Electric Power Generation                           131\n",
       "Ready-Mix Concrete Manufacturing                                119\n",
       "Solid Waste Landfill                                            111\n",
       "Electroplating, Plating, Polishing, Anodizing, and Coloring      50\n",
       "Petroleum Bulk Stations and Terminals                            41\n",
       "Other Chemical and Allied Products Merchant Wholesalers          37\n",
       "Bare Printed Circuit Board Manufacturing                         37\n",
       "National Security                                                34\n",
       "Crude Petroleum and Natural Gas Extraction                       34\n",
       "All Other Plastics Product Manufacturing                         28\n",
       "Name: PrimaryNAICS, dtype: int64"
      ]
     },
     "execution_count": 41,
     "metadata": {},
     "output_type": "execute_result"
    }
   ],
   "source": [
    "#counts of each facility type\n",
    "ca_fac_sdf['PrimaryNAICS'].value_counts().head(10)"
   ]
  },
  {
   "cell_type": "markdown",
   "metadata": {},
   "source": [
    "### Asthma & COPD"
   ]
  },
  {
   "cell_type": "code",
   "execution_count": 49,
   "metadata": {},
   "outputs": [
    {
     "data": {
      "text/plain": [
       "count    5124.000000\n",
       "mean        8.548888\n",
       "std         1.220257\n",
       "min         5.300000\n",
       "25%         7.600000\n",
       "50%         8.400000\n",
       "75%         9.300000\n",
       "max        14.100000\n",
       "Name: CASTHMA_pct, dtype: float64"
      ]
     },
     "execution_count": 49,
     "metadata": {},
     "output_type": "execute_result"
    }
   ],
   "source": [
    "#summary of incidence rate of Asthma\n",
    "casthma['CASTHMA_pct'].describe()"
   ]
  },
  {
   "cell_type": "code",
   "execution_count": 50,
   "metadata": {},
   "outputs": [
    {
     "data": {
      "text/plain": [
       "count    5124.000000\n",
       "mean        5.360226\n",
       "std         1.625888\n",
       "min         1.100000\n",
       "25%         4.300000\n",
       "50%         5.100000\n",
       "75%         6.200000\n",
       "max        22.300000\n",
       "Name: COPD_pct, dtype: float64"
      ]
     },
     "execution_count": 50,
     "metadata": {},
     "output_type": "execute_result"
    }
   ],
   "source": [
    "#summary of incidence rate of COPD\n",
    "copd['COPD_pct'].describe()"
   ]
  },
  {
   "cell_type": "markdown",
   "metadata": {},
   "source": [
    "# Analysis"
   ]
  },
  {
   "cell_type": "markdown",
   "metadata": {},
   "source": [
    "After we are done with the preprocessing steps of data cleaning and exploration, we would like to first investigate the US pollution dataset to visualize how every monitoring site and air quality index data distributed across the counties of California. In the dataset, we have a total of four air quality indexes for air pollutants including Ozone, Nitrogen Dioxide, Sulfur Dioxide, and Carbon monoxide, denoted as O3 AQI, NO2 AQI, SO2 AQI and CO AQI respectively.   \n",
    "  \n",
    "1.\tWe first normalize the air quality index of each air pollutant and save to new columns; then we calculate the overall AQI by taking the average of the moralized AQI values of the four gases and save it to a new column. \n",
    "2.\tDrop data without lat/lon information from the dataset.\n",
    "3.\tTurn the dataframe into a spatially enabled dataframe with lat/lon as spatial column. \n",
    "4.\tCreate a point layer by turning the above SEDF into a featurelayer in ArcGIS.   \n",
    "From the map, we notice that not all counties in CA have a monitoring site, so we decide to buffer from the point layer we already have by 80 miles to cover the majority of the counties. By this point, most counties have AQI values of various air pollutants.  \n",
    "5.\tMap the buffered layer on top of CA basemap; classed-render the level of AQI of each air pollutant and the averaged AQI with the chosen colormap.  \n",
    "  \n",
    "From the several maps, we can see that the darker the color of the buffer, the higher the AQI is, thus the worse the air quality will be.   \n",
    "Next, we want to visualize the overall air quality of California by county, so we spatial join the CA county layer with the buffered AQI layer (This step is performed using ArcGIS online and the result is saved to layer directly). From the saved layer, we can see a clear trend that the air quality become worse and worse when getting towards the Southeastern of CA. With this observation, we want to make further investigation on different social factors to find out their associations with the air pollution trend in CA.   \n",
    "  \n",
    "**Income:**  \n",
    "As the average income information of each county is joined with the CA county layer in the data cleaning process, we directly classed-render the level of income with the chosen colormap.   \n",
    "  \n",
    "**Facility Type and Emission:**  \n",
    "We would like to visualize the amount of average TRI and GHG emissions in each county.\n",
    "1.\tCreate the facility point layer from the US Facility Level Air Pollution dataset. \n",
    "2.\tAggregate the facility point layer to CA county layer. (Generated on ArcGIS online)\n",
    "3.\tMap the average emission of TRI and GHG separately after aggregation.  \n",
    "\n",
    "From both maps, we can see that the southern part of California has a greater amount of emission, so we want to know what types of facilities contribute more to these emissions. We would like to classify every county by the most common facility type and plot on map.  \n",
    "1.\tConvert NAICS code to the actual type of the facility using the NAICS dictionary. \n",
    "2.\tFind mode of types of facilities in each county and save to a new column in CA county. (A new layer is generated and saved on ArcGIS online)\n",
    "3.\tMap the most common facility type in each county by the above layer.  \n",
    "\n",
    "**Asthma & COPD:**  \n",
    "We want to visualize the incidence rate of asthma and COPD by county.  \n",
    "1.\tCalculate the incidence rates of asthma and COPD of each county from the reported asthma and COPD dataset and join with the ca county layer. (A new layer is generated and saved on ArcGIS online)\n",
    "2.\tClassed-render the layer by asthma and COPD incidence rate separately with the chosen colormap.    \n",
    "  \n",
    "Now, with all six features explored, we want to discover their actual associations with the local air quality. We divide the six features into four groups – income, average TRI and GHG Emission, facility type, incidence rates of asthma and COPD – to train the model of our choice, random forest classifier. In order to boost the performance of the model, we also discretize the normalized average AQI into five equal-size quantiles. All sets of training and testing scores are shown below.  \n",
    "  \n",
    "There is no significant difference from our original project proposal, except that we did not use area as one of our features and choose the incidence rate of asthma and COPD instead."
   ]
  },
  {
   "cell_type": "markdown",
   "metadata": {},
   "source": [
    "### Air Quality Index data of Monitoring Sites"
   ]
  },
  {
   "cell_type": "code",
   "execution_count": 21,
   "metadata": {},
   "outputs": [],
   "source": [
    "#normalize AQI of each GHG\n",
    "pol_pos['O3_norm'] = pol_pos['O3 AQI'].apply(lambda x: (x - pol_pos['O3 AQI'].min())/(pol_pos['O3 AQI'].max() - pol_pos['O3 AQI'].min()))\n",
    "pol_pos['NO2_norm'] = pol_pos['NO2 AQI'].apply(lambda x: (x - pol_pos['NO2 AQI'].min())/(pol_pos['NO2 AQI'].max() - pol_pos['NO2 AQI'].min()))\n",
    "pol_pos['SO2_norm'] = pol_pos['SO2 AQI'].apply(lambda x: (x - pol_pos['SO2 AQI'].min())/(pol_pos['SO2 AQI'].max() - pol_pos['SO2 AQI'].min()))\n",
    "pol_pos['CO_norm'] = pol_pos['CO AQI'].apply(lambda x: (x - pol_pos['CO AQI'].min())/(pol_pos['CO AQI'].max() - pol_pos['CO AQI'].min()))"
   ]
  },
  {
   "cell_type": "code",
   "execution_count": 22,
   "metadata": {},
   "outputs": [],
   "source": [
    "#calculate the overall AQI by average the normalization of four GHG\n",
    "pol_pos['avg_AQI'] = (pol_pos['O3_norm'] + pol_pos['NO2_norm'] + pol_pos['SO2_norm'] + pol_pos['CO_norm'])/4"
   ]
  },
  {
   "cell_type": "code",
   "execution_count": 23,
   "metadata": {},
   "outputs": [],
   "source": [
    "#drop data that don't have lat lon info (in our case, we have a few measures that are labels as 'not in a city')\n",
    "pol_pos = pol_pos.dropna(subset = ['Lat', 'Lon'])"
   ]
  },
  {
   "cell_type": "code",
   "execution_count": 54,
   "metadata": {
    "scrolled": true
   },
   "outputs": [],
   "source": [
    "#create SEDF for the pollution data of monitoring sites\n",
    "pol_sdf = pd.DataFrame.spatial.from_xy(pol_pos, x_column = 'Lon', y_column = 'Lat')"
   ]
  },
  {
   "cell_type": "code",
   "execution_count": 55,
   "metadata": {},
   "outputs": [
    {
     "data": {
      "text/plain": [
       "{'results': [{'itemId': '87e88ab5f998445ab9511241db47a103',\n",
       "   'notSharedWith': [],\n",
       "   'success': True}]}"
      ]
     },
     "execution_count": 55,
     "metadata": {},
     "output_type": "execute_result"
    }
   ],
   "source": [
    "#create point layer\n",
    "pol_layer = pol_sdf.spatial.to_featurelayer(title = 'cities with air AQI data', gis = gis)\n",
    "pol_layer.share(org = True)"
   ]
  },
  {
   "cell_type": "code",
   "execution_count": 56,
   "metadata": {},
   "outputs": [
    {
     "data": {
      "text/plain": [
       "{'results': [{'itemId': '7d1239b0fa0447ada35e81a379a58ec3',\n",
       "   'notSharedWith': [],\n",
       "   'success': True}]}"
      ]
     },
     "execution_count": 56,
     "metadata": {},
     "output_type": "execute_result"
    }
   ],
   "source": [
    "#buffer layer\n",
    "buffer_pol = create_buffers(pol_layer,\n",
    "                               dissolve_type='None',\n",
    "                               distances=[80],\n",
    "                               ring_type='Rings',\n",
    "                               units='Miles',\n",
    "                               output_name=\"BufferCitiesAQI11\")\n",
    "buffer_pol.share(org = True)"
   ]
  },
  {
   "cell_type": "code",
   "execution_count": 57,
   "metadata": {},
   "outputs": [
    {
     "name": "stdout",
     "output_type": "stream",
     "text": [
      "O3 AQI Classed Color Renderer\n"
     ]
    },
    {
     "data": {
      "application/vnd.jupyter.widget-view+json": {
       "model_id": "be786d13d11f48228ccff6ae803706c0",
       "version_major": 2,
       "version_minor": 0
      },
      "text/plain": [
       "MapView(layout=Layout(height='400px', width='100%'))"
      ]
     },
     "metadata": {},
     "output_type": "display_data"
    },
    {
     "data": {
      "text/html": [
       "<div class=\"map-static-img-preview-8327633b-6851-46f8-aa5d-ff6669f733a9\"><img src=\"\"></img></div>"
      ],
      "text/plain": [
       "<IPython.core.display.HTML object>"
      ]
     },
     "metadata": {},
     "output_type": "display_data"
    }
   ],
   "source": [
    "#O3 AQI\n",
    "map_pol = gis.map('California')\n",
    "location = geocode('California')[0]\n",
    "map_pol.extent = location['extent']\n",
    "map_pol.add_layer(buffer_pol.layers[0], {'renderer':'ClassedColorRenderer', 'field_name':'O3_AQI', 'opacity':0.5, 'color':''} )\n",
    "print('O3 AQI Classed Color Renderer')\n",
    "map_pol"
   ]
  },
  {
   "cell_type": "code",
   "execution_count": 58,
   "metadata": {},
   "outputs": [
    {
     "name": "stdout",
     "output_type": "stream",
     "text": [
      "NO2 AQI Classed Color Renderer\n"
     ]
    },
    {
     "data": {
      "application/vnd.jupyter.widget-view+json": {
       "model_id": "17bbcd9be1494fe28449ea83705b0dd6",
       "version_major": 2,
       "version_minor": 0
      },
      "text/plain": [
       "MapView(layout=Layout(height='400px', width='100%'))"
      ]
     },
     "metadata": {},
     "output_type": "display_data"
    },
    {
     "data": {
      "text/html": [
       "<div class=\"map-static-img-preview-7fb9bc74-6f2e-45e9-a487-e1c05f2b9d25\"><img src=\"\"></img></div>"
      ],
      "text/plain": [
       "<IPython.core.display.HTML object>"
      ]
     },
     "metadata": {},
     "output_type": "display_data"
    }
   ],
   "source": [
    "#NO2 AQI\n",
    "map_pol = gis.map('California')\n",
    "location = geocode('California')[0]\n",
    "map_pol.extent = location['extent']\n",
    "map_pol.add_layer(buffer_pol.layers[0], {'renderer':'ClassedColorRenderer', 'field_name':'NO2_AQI', 'opacity':0.5, 'color':'YlOrBr_r'} )\n",
    "print('NO2 AQI Classed Color Renderer')\n",
    "map_pol"
   ]
  },
  {
   "cell_type": "code",
   "execution_count": 59,
   "metadata": {},
   "outputs": [
    {
     "name": "stdout",
     "output_type": "stream",
     "text": [
      "SO2 AQI Classed Color Renderer\n"
     ]
    },
    {
     "data": {
      "application/vnd.jupyter.widget-view+json": {
       "model_id": "7c3f1a6e46a44e779fa317a31149c892",
       "version_major": 2,
       "version_minor": 0
      },
      "text/plain": [
       "MapView(layout=Layout(height='400px', width='100%'))"
      ]
     },
     "metadata": {},
     "output_type": "display_data"
    },
    {
     "data": {
      "text/html": [
       "<div class=\"map-static-img-preview-0021981a-1258-4ffe-8ae5-684224ae3721\"><img src=\"\"></img></div>"
      ],
      "text/plain": [
       "<IPython.core.display.HTML object>"
      ]
     },
     "metadata": {},
     "output_type": "display_data"
    }
   ],
   "source": [
    "#SO2 AQI\n",
    "map_pol = gis.map('California')\n",
    "location = geocode('California')[0]\n",
    "map_pol.extent = location['extent']\n",
    "map_pol.add_layer(buffer_pol.layers[0], {'renderer':'ClassedColorRenderer', 'field_name':'SO2_AQI', 'opacity':0.5, 'color':'YlOrBr_r'} )\n",
    "print('SO2 AQI Classed Color Renderer')\n",
    "map_pol"
   ]
  },
  {
   "cell_type": "code",
   "execution_count": 60,
   "metadata": {},
   "outputs": [
    {
     "name": "stdout",
     "output_type": "stream",
     "text": [
      "CO AQI Classed Color Renderer\n"
     ]
    },
    {
     "data": {
      "application/vnd.jupyter.widget-view+json": {
       "model_id": "49ace2712c444d30984321d2b7ba2d90",
       "version_major": 2,
       "version_minor": 0
      },
      "text/plain": [
       "MapView(layout=Layout(height='400px', width='100%'))"
      ]
     },
     "metadata": {},
     "output_type": "display_data"
    },
    {
     "data": {
      "text/html": [
       "<div class=\"map-static-img-preview-a5193e11-75b5-49ec-92b2-576cabd35d88\"><img src=\"\"></img></div>"
      ],
      "text/plain": [
       "<IPython.core.display.HTML object>"
      ]
     },
     "metadata": {},
     "output_type": "display_data"
    }
   ],
   "source": [
    "#CO AQI\n",
    "map_pol = gis.map('California')\n",
    "location = geocode('California')[0]\n",
    "map_pol.extent = location['extent']\n",
    "map_pol.add_layer(buffer_pol.layers[0], {'renderer':'ClassedColorRenderer', 'field_name':'CO_AQI', 'opacity':0.5, 'color':'YlOrBr_r'} )\n",
    "print('CO AQI Classed Color Renderer')\n",
    "map_pol"
   ]
  },
  {
   "cell_type": "code",
   "execution_count": 61,
   "metadata": {
    "scrolled": false
   },
   "outputs": [
    {
     "name": "stdout",
     "output_type": "stream",
     "text": [
      "Green House Gas AQI Normalized Classed Color Renderer\n"
     ]
    },
    {
     "data": {
      "application/vnd.jupyter.widget-view+json": {
       "model_id": "ce1993f89e4841cb83a5fb444941d980",
       "version_major": 2,
       "version_minor": 0
      },
      "text/plain": [
       "MapView(layout=Layout(height='400px', width='100%'))"
      ]
     },
     "metadata": {},
     "output_type": "display_data"
    },
    {
     "data": {
      "text/html": [
       "<div class=\"map-static-img-preview-8762bf4a-4ab5-4db8-bd73-707753caa510\"><img src=\"\"></img></div>"
      ],
      "text/plain": [
       "<IPython.core.display.HTML object>"
      ]
     },
     "metadata": {},
     "output_type": "display_data"
    }
   ],
   "source": [
    "#Average of four AQIs combined (normalized)\n",
    "map_pol = gis.map('California')\n",
    "location = geocode('California')[0]\n",
    "map_pol.extent = location['extent']\n",
    "map_pol.add_layer(buffer_pol.layers[0], {'renderer':'ClassedColorRenderer', 'field_name':'avg_AQI', 'opacity':0.5, 'color':'YlOrBr_r'} )\n",
    "print('Green House Gas AQI Normalized Classed Color Renderer')\n",
    "map_pol"
   ]
  },
  {
   "cell_type": "code",
   "execution_count": 62,
   "metadata": {
    "scrolled": false
   },
   "outputs": [
    {
     "name": "stdout",
     "output_type": "stream",
     "text": [
      "County AQI Classed Color Renderer\n"
     ]
    },
    {
     "data": {
      "application/vnd.jupyter.widget-view+json": {
       "model_id": "77e505c3cee946d7beedff383f3b2986",
       "version_major": 2,
       "version_minor": 0
      },
      "text/plain": [
       "MapView(layout=Layout(height='400px', width='100%'), legend=True)"
      ]
     },
     "metadata": {},
     "output_type": "display_data"
    },
    {
     "data": {
      "text/html": [
       "<div class=\"map-static-img-preview-a376ae0c-4799-4f85-bb75-45dcc0580e1a\"><img src=\"\"></img></div>"
      ],
      "text/plain": [
       "<IPython.core.display.HTML object>"
      ]
     },
     "metadata": {},
     "output_type": "display_data"
    }
   ],
   "source": [
    "#join ca county layer and the buffered AQI area so each county has aqi inf\n",
    "#we perform this on ArcGIS online and store the result, here we extract that as a layer\n",
    "ca_income_aqi_layer = gis.content.get(\"8b33ab758ebe489ebd63d57d4088cac6\")\n",
    "map_pol = gis.map('California')\n",
    "location = geocode('California')[0]\n",
    "map_pol.extent = location['extent']\n",
    "map_pol.add_layer(ca_income_aqi_layer.layers[0])\n",
    "map_pol.legend = True\n",
    "print('County AQI Classed Color Renderer')\n",
    "map_pol\n"
   ]
  },
  {
   "cell_type": "markdown",
   "metadata": {},
   "source": [
    "### Income"
   ]
  },
  {
   "cell_type": "code",
   "execution_count": 63,
   "metadata": {},
   "outputs": [
    {
     "data": {
      "application/vnd.jupyter.widget-view+json": {
       "model_id": "0c8bd429a6d24bdf9796e96b13a6a527",
       "version_major": 2,
       "version_minor": 0
      },
      "text/plain": [
       "MapView(jupyter_target='notebook', layout=Layout(height='400px', width='100%'), ready=True, zoom=5.0)"
      ]
     },
     "metadata": {},
     "output_type": "display_data"
    },
    {
     "data": {
      "text/html": [
       "<div class=\"map-static-img-preview-77294538-2b8b-4ce7-8bed-37f51294ef09\"><img src=\"\"></img></div>"
      ],
      "text/plain": [
       "<IPython.core.display.HTML object>"
      ]
     },
     "metadata": {},
     "output_type": "display_data"
    }
   ],
   "source": [
    "#County with income classed color renderer\n",
    "map_county"
   ]
  },
  {
   "cell_type": "markdown",
   "metadata": {},
   "source": [
    "### Facility Type and Emissions"
   ]
  },
  {
   "cell_type": "code",
   "execution_count": 29,
   "metadata": {},
   "outputs": [],
   "source": [
    "#find mode of types of industries in each county and store in ca_most_fl\n",
    "naics_code = naics_code[naics_code.naics_code_digits == 6]\n",
    "naics_dict = naics_code[['naics_code', 'naics_title']].set_index('naics_code').to_dict()['naics_title']\n",
    "ca_fac_sdf['PrimaryNAICS'] = ca_fac_sdf.PrimaryNAICS.apply(lambda x: naics_dict[str(x)])\n",
    "ca_most_fl = ca_fac_sdf.groupby('County').PrimaryNAICS.agg(pd.Series.mode).to_frame()"
   ]
  },
  {
   "cell_type": "code",
   "execution_count": 99,
   "metadata": {},
   "outputs": [
    {
     "data": {
      "application/vnd.jupyter.widget-view+json": {
       "model_id": "f62e1522750c424ea288ffe09dfc2ecf",
       "version_major": 2,
       "version_minor": 0
      },
      "text/plain": [
       "MapView(layout=Layout(height='400px', width='100%'))"
      ]
     },
     "metadata": {},
     "output_type": "display_data"
    },
    {
     "data": {
      "text/html": [
       "<div class=\"map-static-img-preview-d8da7af2-b0ae-435f-acc0-dba1bf0d31f8\"><img src=\"\"></img></div>"
      ],
      "text/plain": [
       "<IPython.core.display.HTML object>"
      ]
     },
     "metadata": {},
     "output_type": "display_data"
    }
   ],
   "source": [
    "# create facility point layer and map both facility and county layer\n",
    "ca_fac_fl = ca_fac_sdf.spatial.to_featurelayer(title ='CA facility air pollution', gis=gis)\n",
    "ca_fac_fl.share(org = True)\n",
    "\n",
    "map_fl = gis.map('California')\n",
    "location = geocode('California')[0]\n",
    "map_fl.extent = location['extent']\n",
    "map_fl.add_layer(ca_fac_fl)\n",
    "map_fl.add_layer(ca_county_layer)\n",
    "map_fl"
   ]
  },
  {
   "cell_type": "code",
   "execution_count": 62,
   "metadata": {},
   "outputs": [
    {
     "data": {
      "text/plain": [
       "\"\\nsum_fields = ['TRI_Emi Mean', 'GHG_Emi Mean']\\nfacility_agg = summarize_data.aggregate_points(point_layer = ca_fac_fl,\\n                 polygon_layer = ca_county_layers.layers[0],\\n                 keep_boundaries_with_no_points=False,\\n                 summary_fields=sum_fields)\\n\""
      ]
     },
     "execution_count": 62,
     "metadata": {},
     "output_type": "execute_result"
    }
   ],
   "source": [
    "\"\"\"\n",
    "sum_fields = ['TRI_Emi Mean', 'GHG_Emi Mean']\n",
    "facility_agg = summarize_data.aggregate_points(point_layer = ca_fac_fl,\n",
    "                 polygon_layer = ca_county_layers.layers[0],\n",
    "                 keep_boundaries_with_no_points=False,\n",
    "                 summary_fields=sum_fields)\n",
    "\"\"\""
   ]
  },
  {
   "cell_type": "code",
   "execution_count": 65,
   "metadata": {},
   "outputs": [],
   "source": [
    "#aggregation of facilities to counties, resulted from code above and stored after\n",
    "fl_county = gis.content.get('2ce2759abf1b4532b731bf70b7b9ab62')"
   ]
  },
  {
   "cell_type": "code",
   "execution_count": 66,
   "metadata": {},
   "outputs": [
    {
     "data": {
      "application/vnd.jupyter.widget-view+json": {
       "model_id": "6fd359f2ddb6493e93cc28ccff108105",
       "version_major": 2,
       "version_minor": 0
      },
      "text/plain": [
       "MapView(layout=Layout(height='400px', width='100%'))"
      ]
     },
     "metadata": {},
     "output_type": "display_data"
    },
    {
     "data": {
      "text/html": [
       "<div class=\"map-static-img-preview-b4ce978a-3499-4013-bdfe-72ecb849118c\"><img src=\"\"></img></div>"
      ],
      "text/plain": [
       "<IPython.core.display.HTML object>"
      ]
     },
     "metadata": {},
     "output_type": "display_data"
    }
   ],
   "source": [
    "#map the result of aggregation\n",
    "map_agg = gis.map('California')\n",
    "location = geocode('California')[0]\n",
    "map_agg.extent = location['extent']\n",
    "map_agg.add_layer(fl_county.layers[0])\n",
    "map_agg"
   ]
  },
  {
   "cell_type": "code",
   "execution_count": 74,
   "metadata": {},
   "outputs": [
    {
     "data": {
      "application/vnd.jupyter.widget-view+json": {
       "model_id": "6e96ff65123442d18811750b3b4f1ff7",
       "version_major": 2,
       "version_minor": 0
      },
      "text/plain": [
       "MapView(layout=Layout(height='400px', width='100%'))"
      ]
     },
     "metadata": {},
     "output_type": "display_data"
    },
    {
     "data": {
      "text/html": [
       "<div class=\"map-static-img-preview-03f6fb43-943e-4e0b-b956-7bfcd1f98d2b\"><img src=\"\"></img></div>"
      ],
      "text/plain": [
       "<IPython.core.display.HTML object>"
      ]
     },
     "metadata": {},
     "output_type": "display_data"
    }
   ],
   "source": [
    "#map the average TRI emission after aggregation\n",
    "map_tri = gis.map('California')\n",
    "location = geocode('California')[0]\n",
    "map_tri.extent = location['extent']\n",
    "map_tri.add_layer(fl_county.layers[0], {'renderer':'ClassedColorRenderer', 'field_name':'MEAN_TRI_Emi', 'opacity':0.5})\n",
    "map_tri"
   ]
  },
  {
   "cell_type": "code",
   "execution_count": 75,
   "metadata": {},
   "outputs": [
    {
     "data": {
      "application/vnd.jupyter.widget-view+json": {
       "model_id": "a02bca79cba0498a8e61c7455996509b",
       "version_major": 2,
       "version_minor": 0
      },
      "text/plain": [
       "MapView(layout=Layout(height='400px', width='100%'))"
      ]
     },
     "metadata": {},
     "output_type": "display_data"
    },
    {
     "data": {
      "text/html": [
       "<div class=\"map-static-img-preview-4b9ac210-483b-4aed-9276-40b007d6867c\"><img src=\"\"></img></div>"
      ],
      "text/plain": [
       "<IPython.core.display.HTML object>"
      ]
     },
     "metadata": {},
     "output_type": "display_data"
    }
   ],
   "source": [
    "#map the average GHG emission after aggregation\n",
    "map_ghg = gis.map('California')\n",
    "location = geocode('California')[0]\n",
    "map_ghg.extent = location['extent']\n",
    "map_ghg.add_layer(fl_county.layers[0], {'renderer':'ClassedColorRenderer', 'field_name':'MEAN_GHG_Emi', 'opacity':0.5})\n",
    "map_ghg"
   ]
  },
  {
   "cell_type": "code",
   "execution_count": 68,
   "metadata": {},
   "outputs": [],
   "source": [
    "#get the layer we created after adding common industry information and asthma/copd incidence rate to the aggregated\n",
    "#layer above\n",
    "county_ind_layer = gis.content.get('4b75d1dbd3594c8faf3e5ff944b0e803').layers[0]"
   ]
  },
  {
   "cell_type": "code",
   "execution_count": 69,
   "metadata": {},
   "outputs": [
    {
     "data": {
      "application/vnd.jupyter.widget-view+json": {
       "model_id": "ce21d17b308d408a83172f9c41c918b2",
       "version_major": 2,
       "version_minor": 0
      },
      "text/plain": [
       "MapView(layout=Layout(height='400px', width='100%'), legend=True)"
      ]
     },
     "metadata": {},
     "output_type": "display_data"
    },
    {
     "data": {
      "text/html": [
       "<div class=\"map-static-img-preview-5aae9a35-4a5b-46f8-95f3-fbcbfafee6b2\"><img src=\"\"></img></div>"
      ],
      "text/plain": [
       "<IPython.core.display.HTML object>"
      ]
     },
     "metadata": {},
     "output_type": "display_data"
    }
   ],
   "source": [
    "#map the most common industry in each county (by the layer above)\n",
    "map_most_ind = gis.map(gis.content.get('8d0b9c3f52e64fe08303ea512f52843d'))\n",
    "map_most_ind.legend = True\n",
    "map_most_ind"
   ]
  },
  {
   "cell_type": "markdown",
   "metadata": {},
   "source": [
    "### Asthma & COPD"
   ]
  },
  {
   "cell_type": "code",
   "execution_count": 100,
   "metadata": {},
   "outputs": [
    {
     "data": {
      "application/vnd.jupyter.widget-view+json": {
       "model_id": "ad8177c2aa7f455f925de0eee64b36c9",
       "version_major": 2,
       "version_minor": 0
      },
      "text/plain": [
       "MapView(layout=Layout(height='400px', width='100%'))"
      ]
     },
     "metadata": {},
     "output_type": "display_data"
    },
    {
     "data": {
      "text/html": [
       "<div class=\"map-static-img-preview-578f9193-33c2-430b-91d9-cb70a1092c93\"><img src=\"\"></img></div>"
      ],
      "text/plain": [
       "<IPython.core.display.HTML object>"
      ]
     },
     "metadata": {},
     "output_type": "display_data"
    }
   ],
   "source": [
    "#asthma incidence rate\n",
    "map_as = gis.map('California')\n",
    "location = geocode('California')[0]\n",
    "map_as.extent = location['extent']\n",
    "map_as.add_layer(county_ind_layer, {'renderer':'ClassedColorRenderer', 'field_name':'asthma_rat', 'opacity':0.5})\n",
    "map_as"
   ]
  },
  {
   "cell_type": "code",
   "execution_count": 101,
   "metadata": {},
   "outputs": [
    {
     "data": {
      "application/vnd.jupyter.widget-view+json": {
       "model_id": "0d75b4e78a0247539ede010fcf5b0090",
       "version_major": 2,
       "version_minor": 0
      },
      "text/plain": [
       "MapView(layout=Layout(height='400px', width='100%'))"
      ]
     },
     "metadata": {},
     "output_type": "display_data"
    },
    {
     "data": {
      "text/html": [
       "<div class=\"map-static-img-preview-d8a24487-8b2c-49ef-8782-fb669209400b\"><img src=\"\"></img></div>"
      ],
      "text/plain": [
       "<IPython.core.display.HTML object>"
      ]
     },
     "metadata": {},
     "output_type": "display_data"
    }
   ],
   "source": [
    "#copd incidence rate\n",
    "map_copd = gis.map('California')\n",
    "location = geocode('California')[0]\n",
    "map_copd.extent = location['extent']\n",
    "map_copd.add_layer(county_ind_layer, {'renderer':'ClassedColorRenderer', 'field_name':'copd_rate', 'opacity':0.5})\n",
    "map_copd"
   ]
  },
  {
   "cell_type": "markdown",
   "metadata": {},
   "source": [
    "### Training  "
   ]
  },
  {
   "cell_type": "code",
   "execution_count": 78,
   "metadata": {},
   "outputs": [],
   "source": [
    "#create dataframe of features including six features\n",
    "X_df = county_ind_layer.query().sdf[['MEAN_GHG_E', 'MEAN_TRI_E','NAICS', 'asthma_rat', 'NAME', 'copd_rate', 'income']]"
   ]
  },
  {
   "cell_type": "code",
   "execution_count": 79,
   "metadata": {},
   "outputs": [],
   "source": [
    "#identify that we are classifying the overall AQI\n",
    "y_df = ca_income_aqi_layer.layers[0].query().sdf[['MEAN_avg_AQI', 'NAME']]\n",
    "y_df['MEAN_avg_AQI'] = (y_df['MEAN_avg_AQI']*1000000).astype(int)"
   ]
  },
  {
   "cell_type": "code",
   "execution_count": 80,
   "metadata": {},
   "outputs": [],
   "source": [
    "#create df with both X and y\n",
    "df = X_df.merge(y_df, on = 'NAME')"
   ]
  },
  {
   "cell_type": "code",
   "execution_count": 92,
   "metadata": {},
   "outputs": [
    {
     "data": {
      "text/plain": [
       "Pipeline(memory=None,\n",
       "     steps=[('clf', RandomForestClassifier(bootstrap=True, class_weight=None, criterion='gini',\n",
       "            max_depth=5, max_features='auto', max_leaf_nodes=None,\n",
       "            min_impurity_decrease=0.0, min_impurity_split=None,\n",
       "            min_samples_leaf=1, min_samples_split=2,\n",
       "            min_weight_fraction_leaf=0.0, n_estimators=100, n_jobs=None,\n",
       "            oob_score=False, random_state=None, verbose=0,\n",
       "            warm_start=False))])"
      ]
     },
     "execution_count": 92,
     "metadata": {},
     "output_type": "execute_result"
    }
   ],
   "source": [
    "#discretize y in to five classes, then split dataset into training set and test set\n",
    "\n",
    "#We start by using average GHG and TRI as our features\n",
    "X = df[['MEAN_GHG_E', 'MEAN_TRI_E']]\n",
    "y = pd.qcut(df['MEAN_avg_AQI'], 5, labels=False)\n",
    "X_train, X_test, y_train, y_test = train_test_split(X, y, test_size=0.25)\n",
    "\n",
    "#train and fit\n",
    "clf = RandomForestClassifier(n_estimators = 100, max_depth = 5)\n",
    "pl = Pipeline(steps=[\n",
    "            #('preprocessor', pre),\n",
    "            ('clf', clf)\n",
    "        ])\n",
    "pl.fit(X_train, y_train)"
   ]
  },
  {
   "cell_type": "code",
   "execution_count": 93,
   "metadata": {},
   "outputs": [
    {
     "name": "stdout",
     "output_type": "stream",
     "text": [
      "the training score is:\n",
      "0.8571428571428571\n",
      "the testing score is:\n",
      "0.2857142857142857\n"
     ]
    }
   ],
   "source": [
    "#print result for GHG/TRI emission\n",
    "\n",
    "#training error\n",
    "print('the training score is:')\n",
    "print(pl.score(X_train,y_train))\n",
    "\n",
    "#testing error\n",
    "print('the testing score is:')\n",
    "print(pl.score(X_test, y_test))"
   ]
  },
  {
   "cell_type": "code",
   "execution_count": 94,
   "metadata": {},
   "outputs": [
    {
     "name": "stdout",
     "output_type": "stream",
     "text": [
      "the training score is:\n",
      "0.5476190476190477\n",
      "the testing score is:\n",
      "0.5714285714285714\n"
     ]
    }
   ],
   "source": [
    "#most common type of industry as feature\n",
    "X = df[['NAICS']]\n",
    "y = pd.qcut(df['MEAN_avg_AQI'], 5, labels=False)\n",
    "X_train, X_test, y_train, y_test = train_test_split(X, y, test_size=0.25)\n",
    "\n",
    "#preprocess by one hot coding, train and fit\n",
    "cat_feat = ['NAICS']\n",
    "cat_trans = Pipeline(steps=[('cat_trans', OneHotEncoder(handle_unknown = 'ignore'))])\n",
    "\n",
    "pre = ColumnTransformer(transformers=[('cat', cat_trans,cat_feat)])\n",
    "\n",
    "clf = RandomForestClassifier(n_estimators = 100, max_depth = 5)\n",
    "pl = Pipeline(steps=[\n",
    "            ('preprocessor', pre),\n",
    "            ('clf', clf)\n",
    "        ])\n",
    "pl.fit(X_train, y_train)\n",
    "\n",
    "#training error\n",
    "print('the training score is:')\n",
    "print(pl.score(X_train,y_train))\n",
    "\n",
    "#testing error\n",
    "print('the testing score is:')\n",
    "print(pl.score(X_test, y_test))"
   ]
  },
  {
   "cell_type": "code",
   "execution_count": 96,
   "metadata": {},
   "outputs": [
    {
     "name": "stdout",
     "output_type": "stream",
     "text": [
      "the training score is:\n",
      "0.8095238095238095\n",
      "the testing score is:\n",
      "0.21428571428571427\n"
     ]
    }
   ],
   "source": [
    "#income as feature\n",
    "X = df[['income']]\n",
    "y = pd.qcut(df['MEAN_avg_AQI'], 5, labels=False)\n",
    "X_train, X_test, y_train, y_test = train_test_split(X, y, test_size=0.25)\n",
    "\n",
    "#train and fit\n",
    "clf = RandomForestClassifier(n_estimators = 100, max_depth = 5)\n",
    "pl = Pipeline(steps=[\n",
    "            ('clf', clf)\n",
    "        ])\n",
    "pl.fit(X_train, y_train)\n",
    "\n",
    "#training error\n",
    "print('the training score is:')\n",
    "print(pl.score(X_train,y_train))\n",
    "\n",
    "#testing error\n",
    "print('the testing score is:')\n",
    "print(pl.score(X_test, y_test))"
   ]
  },
  {
   "cell_type": "code",
   "execution_count": 98,
   "metadata": {},
   "outputs": [
    {
     "name": "stdout",
     "output_type": "stream",
     "text": [
      "the training score is:\n",
      "0.6666666666666666\n",
      "the testing score is:\n",
      "0.5\n"
     ]
    }
   ],
   "source": [
    "#rate of asthma and copd as features\n",
    "X = df[['asthma_rat','copd_rate']]\n",
    "y = pd.qcut(df['MEAN_avg_AQI'], 5, labels=False)\n",
    "X_train, X_test, y_train, y_test = train_test_split(X, y, test_size=0.25)\n",
    "\n",
    "clf = RandomForestClassifier(n_estimators = 100, max_depth = 5)\n",
    "pl = Pipeline(steps=[\n",
    "            ('clf', clf)\n",
    "        ])\n",
    "pl.fit(X_train, y_train)\n",
    "\n",
    "#training error\n",
    "print('the training score is:')\n",
    "print(pl.score(X_train,y_train))\n",
    "\n",
    "#testing error\n",
    "print('the testing score is:')\n",
    "print(pl.score(X_test, y_test))"
   ]
  },
  {
   "cell_type": "markdown",
   "metadata": {},
   "source": [
    "# Summary"
   ]
  },
  {
   "cell_type": "markdown",
   "metadata": {},
   "source": [
    "All maps below are generated in **Analysis** section. In conclusion, we have used spatial operations including create_buffer, one-to-one spatial join, aggregate_points."
   ]
  },
  {
   "cell_type": "code",
   "execution_count": 102,
   "metadata": {},
   "outputs": [
    {
     "data": {
      "application/vnd.jupyter.widget-view+json": {
       "model_id": "77e505c3cee946d7beedff383f3b2986",
       "version_major": 2,
       "version_minor": 0
      },
      "text/plain": [
       "MapView(jupyter_target='notebook', layout=Layout(height='400px', width='100%'), legend=True, ready=True, zoom=…"
      ]
     },
     "metadata": {},
     "output_type": "display_data"
    },
    {
     "data": {
      "text/html": [
       "<div class=\"map-static-img-preview-a376ae0c-4799-4f85-bb75-45dcc0580e1a\"><img src=\"\"></img></div>"
      ],
      "text/plain": [
       "<IPython.core.display.HTML object>"
      ]
     },
     "metadata": {},
     "output_type": "display_data"
    }
   ],
   "source": [
    "#map the overall normalized AQI by county (joining buffers and county layer)\n",
    "map_pol"
   ]
  },
  {
   "cell_type": "markdown",
   "metadata": {},
   "source": [
    "From the map above we created after joining the buffers and county layer, we can clearly see that counties in Southern California have higher overall normalized AQI, which means that these counties have worse air quality compared to counties in Northern California."
   ]
  },
  {
   "cell_type": "code",
   "execution_count": 103,
   "metadata": {},
   "outputs": [
    {
     "data": {
      "application/vnd.jupyter.widget-view+json": {
       "model_id": "0c8bd429a6d24bdf9796e96b13a6a527",
       "version_major": 2,
       "version_minor": 0
      },
      "text/plain": [
       "MapView(jupyter_target='notebook', layout=Layout(height='400px', width='100%'), ready=True, zoom=5.0)"
      ]
     },
     "metadata": {},
     "output_type": "display_data"
    },
    {
     "data": {
      "text/html": [
       "<div class=\"map-static-img-preview-77294538-2b8b-4ce7-8bed-37f51294ef09\"><img src=\"\"></img></div>"
      ],
      "text/plain": [
       "<IPython.core.display.HTML object>"
      ]
     },
     "metadata": {},
     "output_type": "display_data"
    }
   ],
   "source": [
    "#map average income by county\n",
    "map_county"
   ]
  },
  {
   "cell_type": "markdown",
   "metadata": {},
   "source": [
    "From this map, we see that counties along the coastal line have higher average income, especially for those around large urban cities."
   ]
  },
  {
   "cell_type": "code",
   "execution_count": 104,
   "metadata": {},
   "outputs": [
    {
     "data": {
      "application/vnd.jupyter.widget-view+json": {
       "model_id": "6e96ff65123442d18811750b3b4f1ff7",
       "version_major": 2,
       "version_minor": 0
      },
      "text/plain": [
       "MapView(jupyter_target='notebook', layout=Layout(height='400px', width='100%'), ready=True, zoom=5.0)"
      ]
     },
     "metadata": {},
     "output_type": "display_data"
    },
    {
     "data": {
      "text/html": [
       "<div class=\"map-static-img-preview-03f6fb43-943e-4e0b-b956-7bfcd1f98d2b\"><img src=\"\"></img></div>"
      ],
      "text/plain": [
       "<IPython.core.display.HTML object>"
      ]
     },
     "metadata": {},
     "output_type": "display_data"
    }
   ],
   "source": [
    "#map average facility tri emission by county\n",
    "map_tri"
   ]
  },
  {
   "cell_type": "code",
   "execution_count": 105,
   "metadata": {},
   "outputs": [
    {
     "data": {
      "application/vnd.jupyter.widget-view+json": {
       "model_id": "a02bca79cba0498a8e61c7455996509b",
       "version_major": 2,
       "version_minor": 0
      },
      "text/plain": [
       "MapView(jupyter_target='notebook', layout=Layout(height='400px', width='100%'), ready=True)"
      ]
     },
     "metadata": {},
     "output_type": "display_data"
    },
    {
     "data": {
      "text/html": [
       "<div class=\"map-static-img-preview-4b9ac210-483b-4aed-9276-40b007d6867c\"><img src=\"\"></img></div>"
      ],
      "text/plain": [
       "<IPython.core.display.HTML object>"
      ]
     },
     "metadata": {},
     "output_type": "display_data"
    }
   ],
   "source": [
    "#map average facility ghg emission by county\n",
    "map_ghg"
   ]
  },
  {
   "cell_type": "markdown",
   "metadata": {},
   "source": [
    "From both maps above we created by aggregating facility point layer to county polygon layer, we again see that counties in Southern California have higher average TRI/GHG emission for each facility."
   ]
  },
  {
   "cell_type": "code",
   "execution_count": 106,
   "metadata": {},
   "outputs": [
    {
     "data": {
      "application/vnd.jupyter.widget-view+json": {
       "model_id": "ce21d17b308d408a83172f9c41c918b2",
       "version_major": 2,
       "version_minor": 0
      },
      "text/plain": [
       "MapView(jupyter_target='notebook', layout=Layout(height='400px', width='100%'), legend=True, ready=True, zoom=…"
      ]
     },
     "metadata": {},
     "output_type": "display_data"
    },
    {
     "data": {
      "text/html": [
       "<div class=\"map-static-img-preview-5aae9a35-4a5b-46f8-95f3-fbcbfafee6b2\"><img src=\"\"></img></div>"
      ],
      "text/plain": [
       "<IPython.core.display.HTML object>"
      ]
     },
     "metadata": {},
     "output_type": "display_data"
    }
   ],
   "source": [
    "#map the most common industry type by county\n",
    "map_most_ind"
   ]
  },
  {
   "cell_type": "markdown",
   "metadata": {},
   "source": [
    "From this map, we see that for counties in Southern California, mostly the main industry type for facilities are fossil fuel electric power generation, ready-mix concrete manufacturing, and crude petroleum, which is a reasonable finding as these industies are all related to chemical burning or releasing."
   ]
  },
  {
   "cell_type": "code",
   "execution_count": 107,
   "metadata": {},
   "outputs": [
    {
     "data": {
      "application/vnd.jupyter.widget-view+json": {
       "model_id": "ad8177c2aa7f455f925de0eee64b36c9",
       "version_major": 2,
       "version_minor": 0
      },
      "text/plain": [
       "MapView(jupyter_target='notebook', layout=Layout(height='400px', width='100%'), ready=True)"
      ]
     },
     "metadata": {},
     "output_type": "display_data"
    },
    {
     "data": {
      "text/html": [
       "<div class=\"map-static-img-preview-578f9193-33c2-430b-91d9-cb70a1092c93\"><img src=\"\"></img></div>"
      ],
      "text/plain": [
       "<IPython.core.display.HTML object>"
      ]
     },
     "metadata": {},
     "output_type": "display_data"
    }
   ],
   "source": [
    "#map incidence rate of Asthma by county\n",
    "map_as"
   ]
  },
  {
   "cell_type": "code",
   "execution_count": 108,
   "metadata": {},
   "outputs": [
    {
     "data": {
      "application/vnd.jupyter.widget-view+json": {
       "model_id": "0d75b4e78a0247539ede010fcf5b0090",
       "version_major": 2,
       "version_minor": 0
      },
      "text/plain": [
       "MapView(jupyter_target='notebook', layout=Layout(height='400px', width='100%'), ready=True)"
      ]
     },
     "metadata": {},
     "output_type": "display_data"
    },
    {
     "data": {
      "text/html": [
       "<div class=\"map-static-img-preview-d8a24487-8b2c-49ef-8782-fb669209400b\"><img src=\"\"></img></div>"
      ],
      "text/plain": [
       "<IPython.core.display.HTML object>"
      ]
     },
     "metadata": {},
     "output_type": "display_data"
    }
   ],
   "source": [
    "#map incidence rate of COPD by county\n",
    "map_copd"
   ]
  },
  {
   "cell_type": "markdown",
   "metadata": {},
   "source": [
    "From both maps above, we can see that the incidence rates of resipiratory diseases such as Asthma and COPD are higher in Southern California counties. However, we can also see that the difference of incidence rate of Astham and COPD across counties is not really significant."
   ]
  },
  {
   "cell_type": "markdown",
   "metadata": {},
   "source": [
    "After dividing our six features, which are average income, average facility GHG/TRI emissions, main industry type, and incidence rate of Asthma/COPD, into four groups and train all four groups as features separately, we got average test accuracy of 28.57%, 57.14%, 42.86%, 50% for each group repectively. All test accuracies are higher than a random guess, which is around 20% accuracy. This shows that each group is somehow associated with air quality."
   ]
  },
  {
   "cell_type": "markdown",
   "metadata": {},
   "source": [
    "# Discussion\n"
   ]
  },
  {
   "cell_type": "markdown",
   "metadata": {},
   "source": [
    "From our analysis, we found that each of the four feature groups are associated with air quality of the county. Especially the main industry type has relatively high test accuracy as a single feature. However, as our background literature review shows that areas with lower income have worse air quality, we expected our test accuracy of randomforest classifier for income to be larger that what we actually got. Nevertheless, our results have generally validated what was found in our backgroud literature. We further confirm that an area's main industry type, average facility emission of TRI/GHG, income, and rate of Asthma/COPD are associated with air quality in its range.  \n",
    "  \n",
    "Still, some limitations exist that may affect the practicalities of our analysis. The first was our choice to buffer monitoring sites by 80 miles in order to cover most of the counties. This spatial operation was not a formal defined move as we are not sure the range of area that a monitoring site's measured AQI can represent. We also created several overlapping buffers as a result. For those counties covered by multiple buffers, we had to compute average AQI of all those buffers since we perform spatial join by one-to-one. The other was our choice to represent air quality of a county by normalizing and averaging the AQI of all four greenhouse gases, and this is not a formal computation defined by any organization. Third, the reported incidence rate of respiratory diseases might be off after these years. Finally, our analysis may better represent the result of long term exposure, but not short term exposure to air pollutants as we expected after reviewing the background literature."
   ]
  },
  {
   "cell_type": "markdown",
   "metadata": {},
   "source": [
    "# Conclusion and Future Work"
   ]
  },
  {
   "cell_type": "markdown",
   "metadata": {},
   "source": [
    "We have generally confirmed that air quality of an area is associated with average income, average facility emissions, main industry type, and incidence rate of respiratory diseases. With this result, we would like to encourage local governments to use our analysis results as references, and regulate TRI/GHG emissions for each facility, and also require preprocess before release or emission if possible. Moreover, local governments can limit the numbers of industry type related to fossil fuels, ready-mix concrete manufacturing, and crude petroleum. In this ways, we can reduce the risk of air pollution, and also possibly reduce the incidence rate of respiratory diseases such as Asthma and COPD.  \n",
    "  \n",
    "In the future, our analysis can be further improved with the data of individual short term and long term exposure to air pollutants. However, as we mentioned above, this is unpractical and may only be done with surveys and sampling techniques. Our analysis can also be improved if we have more monitoring sites. In this way, we would not have to buffer a monitoring site so far to cover the areas we would like to study.  \n",
    "  \n",
    "We believe that the approach we used in this analysis can be extended to studies of other environmental pollution, such as water or land pollution, as long as we can measure the quality of environments in some ways. "
   ]
  },
  {
   "cell_type": "code",
   "execution_count": null,
   "metadata": {},
   "outputs": [],
   "source": []
  }
 ],
 "metadata": {
  "kernelspec": {
   "display_name": "Python 3",
   "language": "python",
   "name": "python3"
  },
  "language_info": {
   "codemirror_mode": {
    "name": "ipython",
    "version": 3
   },
   "file_extension": ".py",
   "mimetype": "text/x-python",
   "name": "python",
   "nbconvert_exporter": "python",
   "pygments_lexer": "ipython3",
   "version": "3.6.8"
  }
 },
 "nbformat": 4,
 "nbformat_minor": 2
}
